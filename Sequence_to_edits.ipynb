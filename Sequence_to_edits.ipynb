{
 "cells": [
  {
   "cell_type": "markdown",
   "id": "fd26723d",
   "metadata": {
    "hide_input": true
   },
   "source": [
    "\n",
    "### Package imports"
   ]
  },
  {
   "cell_type": "code",
   "execution_count": 32,
   "id": "b32f2f50",
   "metadata": {
    "hide_input": false,
    "run_control": {
     "marked": false
    }
   },
   "outputs": [],
   "source": [
    "import torch\n",
    "from torchtext.legacy.data import Field, TabularDataset, BucketIterator\n",
    "from torchtext.legacy import datasets\n",
    "from torch.utils.data.dataset import Subset\n",
    "import torch.nn as nn\n",
    "import torch.nn.functional as F\n",
    "import torch.optim as optim\n",
    "\n",
    "import matplotlib.pyplot as plt\n",
    "import numpy as np\n",
    "\n",
    "import random\n",
    "import time\n",
    "\n",
    "from seqeval.metrics import accuracy_score"
   ]
  },
  {
   "cell_type": "markdown",
   "id": "bc466f42",
   "metadata": {},
   "source": [
    "##### instal packages"
   ]
  },
  {
   "cell_type": "raw",
   "id": "210fb5dc",
   "metadata": {},
   "source": [
    "!conda install pytorch=1.9 torchvision torchaudio -c pytorch\n",
    "!conda install -y torchtext==0.10 -c pytorch"
   ]
  },
  {
   "cell_type": "markdown",
   "id": "f2cba2cf",
   "metadata": {},
   "source": [
    "#### parameters"
   ]
  },
  {
   "cell_type": "code",
   "execution_count": 33,
   "id": "4d545ea5",
   "metadata": {
    "code_folding": []
   },
   "outputs": [],
   "source": [
    "BATCH_SIZE = 64 #1,2,4,8,16,32,64,128,256,512,1028\n",
    "device = torch.device('cuda' if torch.cuda.is_available() else 'cpu')"
   ]
  },
  {
   "cell_type": "markdown",
   "id": "ec8e4c24",
   "metadata": {},
   "source": [
    "#### seed initializing"
   ]
  },
  {
   "cell_type": "raw",
   "id": "8fbcf47e",
   "metadata": {},
   "source": [
    "seed=1234\n",
    "\n",
    "random.seed(1234)\n",
    "np.random.seed(1234)\n",
    "torch.manual_seed(1234)\n",
    "torch.cuda.manual_seed(1234)\n",
    "torch.backends.cudnn.determininistic=True"
   ]
  },
  {
   "cell_type": "markdown",
   "id": "eb9905bc",
   "metadata": {},
   "source": [
    "### Data Processing"
   ]
  },
  {
   "cell_type": "raw",
   "id": "0fa85690",
   "metadata": {},
   "source": [
    "To do\n",
    "1. fetch the data from the file. Using field and tabulardataset\n",
    "2. Create a iterator to loop over the data. Also separate batchs with similar length and pad the extra space\n",
    "3. Build a vocab.\n"
   ]
  },
  {
   "cell_type": "code",
   "execution_count": 58,
   "id": "ef1ee0e0",
   "metadata": {},
   "outputs": [],
   "source": [
    "# step 1\n",
    "\n",
    "# removeTokens = lambda values: values[1:-1]   # function to remove [CLS] and [SEP] from the data set\n",
    "\n",
    "tokens = Field(sequential=True,use_vocab=True,batch_first = True,lower=True,pad_token=\"0\")\n",
    "edits = Field(sequential=True,use_vocab=True,batch_first = True,lower=True,pad_token=\"0\")\n",
    "\n",
    "fields = {'tokens':('tokens',tokens),'labels':('edits',edits)}\n",
    "\n",
    "train_data, test_data = TabularDataset.splits(path='data_filter',train='ptrain.jsonl',test='val.jsonl',\n",
    "                                              format='json',fields=fields)\n",
    "\n",
    "# train_data is dataset with edits and tokens pair. in edits and tokens list of string is available\n"
   ]
  },
  {
   "cell_type": "code",
   "execution_count": 59,
   "id": "70b1ac6d",
   "metadata": {
    "hide_input": false
   },
   "outputs": [],
   "source": [
    "# step 2  Build a vocab\n",
    "\n",
    "tokens.build_vocab(train_data,min_freq=1,vectors='glove.6B.100d')\n",
    "edits.build_vocab(train_data,min_freq=1,vectors='glove.6B.100d')"
   ]
  },
  {
   "cell_type": "code",
   "execution_count": 60,
   "id": "b2fb1a50",
   "metadata": {},
   "outputs": [],
   "source": [
    "# Step 3 (Create a iterator to loop over the data. Also separate batchs with \n",
    "#         similar length and pad the extra space)\n",
    "\n",
    "sort_by_len = lambda x:len(x)\n",
    "\n",
    "train_data_iterator = BucketIterator(train_data,train=True,\n",
    "                                            batch_size=BATCH_SIZE, device= device)#,sort_within_batch=False)\n",
    "\n",
    "test_data_iterator =BucketIterator(test_data,BATCH_SIZE,train=False,sort=False, device= device)#,sort_within_batch=False)\n",
    "\n"
   ]
  },
  {
   "cell_type": "markdown",
   "id": "1824e5f1",
   "metadata": {},
   "source": [
    "#### data processing result"
   ]
  },
  {
   "cell_type": "code",
   "execution_count": 61,
   "id": "e97f75e0",
   "metadata": {
    "lang": "en"
   },
   "outputs": [
    {
     "name": "stdout",
     "output_type": "stream",
     "text": [
      "<torchtext.legacy.data.dataset.TabularDataset object at 0x7feffacb9710>\n",
      "dict_keys(['tokens', 'edits'])\n",
      "dict_values([['alistair', 'darling', 'is', 'expected', 'to', 'announce', 'details', 'of', 'tax', 'cuts', 'and', 'plans', 'to', 'increases', 'public', 'spending'], ['$keep', '$keep', '$keep', '$keep', '$keep', '$keep', '$keep', '$keep', '$keep', '$keep', '$keep', '$keep', '$keep', '$transform_verb_vbz_vb', '$keep', '$append_.']])\n"
     ]
    }
   ],
   "source": [
    "print(train_data)              # Tabular Data set object\n",
    "\n",
    "print(train_data[0].__dict__.keys())\n",
    "print(train_data[0].__dict__.values())"
   ]
  },
  {
   "cell_type": "code",
   "execution_count": 62,
   "id": "518a8248",
   "metadata": {},
   "outputs": [],
   "source": [
    "t,e = vars(test_data.examples[0])    # to print tokens of any row\n"
   ]
  },
  {
   "cell_type": "code",
   "execution_count": 63,
   "id": "7074d5c4",
   "metadata": {},
   "outputs": [],
   "source": [
    "batch_1 =len(test_data_iterator)"
   ]
  },
  {
   "cell_type": "code",
   "execution_count": 64,
   "id": "732ffc1a",
   "metadata": {},
   "outputs": [
    {
     "data": {
      "text/plain": [
       "405"
      ]
     },
     "execution_count": 64,
     "metadata": {},
     "output_type": "execute_result"
    }
   ],
   "source": [
    "batch_1"
   ]
  },
  {
   "cell_type": "code",
   "execution_count": 65,
   "id": "b37aebf9",
   "metadata": {},
   "outputs": [
    {
     "name": "stdout",
     "output_type": "stream",
     "text": [
      "torch.Size([64, 48])\n",
      "torch.Size([64, 47])\n",
      "torch.Size([64, 48])\n",
      "torch.Size([64, 44])\n",
      "torch.Size([64, 48])\n",
      "torch.Size([64, 43])\n",
      "torch.Size([64, 48])\n",
      "torch.Size([64, 49])\n",
      "torch.Size([64, 45])\n",
      "torch.Size([64, 48])\n",
      "torch.Size([64, 49])\n",
      "torch.Size([64, 49])\n",
      "torch.Size([64, 47])\n",
      "torch.Size([64, 47])\n",
      "torch.Size([64, 48])\n",
      "torch.Size([64, 49])\n",
      "torch.Size([64, 48])\n",
      "torch.Size([64, 42])\n",
      "torch.Size([64, 47])\n",
      "torch.Size([64, 43])\n",
      "torch.Size([64, 49])\n",
      "torch.Size([64, 44])\n",
      "torch.Size([64, 47])\n",
      "torch.Size([64, 49])\n",
      "torch.Size([64, 46])\n",
      "torch.Size([64, 48])\n",
      "torch.Size([64, 48])\n",
      "torch.Size([64, 46])\n",
      "torch.Size([64, 47])\n",
      "torch.Size([64, 41])\n",
      "torch.Size([64, 48])\n",
      "torch.Size([64, 49])\n",
      "torch.Size([64, 47])\n",
      "torch.Size([64, 49])\n",
      "torch.Size([64, 49])\n",
      "torch.Size([64, 47])\n",
      "torch.Size([64, 48])\n",
      "torch.Size([64, 46])\n",
      "torch.Size([64, 47])\n",
      "torch.Size([64, 44])\n",
      "torch.Size([64, 48])\n",
      "torch.Size([64, 48])\n",
      "torch.Size([64, 47])\n",
      "torch.Size([64, 49])\n",
      "torch.Size([64, 46])\n",
      "torch.Size([64, 46])\n",
      "torch.Size([64, 48])\n",
      "torch.Size([64, 49])\n",
      "torch.Size([64, 49])\n",
      "torch.Size([64, 46])\n",
      "torch.Size([64, 45])\n",
      "torch.Size([64, 43])\n",
      "torch.Size([64, 46])\n",
      "torch.Size([64, 49])\n",
      "torch.Size([64, 49])\n",
      "torch.Size([64, 47])\n",
      "torch.Size([64, 47])\n",
      "torch.Size([64, 44])\n",
      "torch.Size([64, 49])\n",
      "torch.Size([64, 45])\n",
      "torch.Size([64, 49])\n",
      "torch.Size([64, 47])\n",
      "torch.Size([64, 42])\n",
      "torch.Size([64, 46])\n",
      "torch.Size([64, 44])\n",
      "torch.Size([64, 49])\n",
      "torch.Size([64, 45])\n",
      "torch.Size([64, 49])\n",
      "torch.Size([64, 48])\n",
      "torch.Size([64, 49])\n",
      "torch.Size([64, 42])\n",
      "torch.Size([64, 49])\n",
      "torch.Size([64, 49])\n",
      "torch.Size([64, 46])\n",
      "torch.Size([64, 46])\n",
      "torch.Size([64, 48])\n",
      "torch.Size([64, 45])\n",
      "torch.Size([64, 44])\n",
      "torch.Size([64, 48])\n",
      "torch.Size([64, 46])\n",
      "torch.Size([64, 47])\n",
      "torch.Size([64, 48])\n",
      "torch.Size([64, 47])\n",
      "torch.Size([64, 49])\n",
      "torch.Size([64, 42])\n",
      "torch.Size([64, 44])\n",
      "torch.Size([64, 48])\n",
      "torch.Size([64, 49])\n",
      "torch.Size([64, 42])\n",
      "torch.Size([64, 48])\n",
      "torch.Size([64, 47])\n",
      "torch.Size([64, 49])\n",
      "torch.Size([64, 45])\n",
      "torch.Size([64, 45])\n",
      "torch.Size([64, 47])\n",
      "torch.Size([64, 48])\n",
      "torch.Size([64, 46])\n",
      "torch.Size([64, 49])\n",
      "torch.Size([64, 46])\n",
      "torch.Size([64, 49])\n",
      "torch.Size([64, 48])\n",
      "torch.Size([64, 46])\n",
      "torch.Size([64, 49])\n",
      "torch.Size([64, 48])\n",
      "torch.Size([64, 49])\n",
      "torch.Size([64, 48])\n",
      "torch.Size([64, 47])\n",
      "torch.Size([64, 48])\n",
      "torch.Size([64, 47])\n",
      "torch.Size([64, 49])\n",
      "torch.Size([64, 47])\n",
      "torch.Size([64, 45])\n",
      "torch.Size([64, 46])\n",
      "torch.Size([64, 49])\n",
      "torch.Size([64, 48])\n",
      "torch.Size([64, 42])\n",
      "torch.Size([64, 46])\n",
      "torch.Size([64, 47])\n",
      "torch.Size([64, 48])\n",
      "torch.Size([64, 47])\n",
      "torch.Size([64, 48])\n",
      "torch.Size([64, 44])\n",
      "torch.Size([64, 45])\n",
      "torch.Size([64, 44])\n",
      "torch.Size([64, 44])\n",
      "torch.Size([64, 48])\n",
      "torch.Size([64, 44])\n",
      "torch.Size([64, 48])\n",
      "torch.Size([64, 47])\n",
      "torch.Size([64, 46])\n",
      "torch.Size([64, 45])\n",
      "torch.Size([64, 49])\n",
      "torch.Size([64, 49])\n",
      "torch.Size([64, 49])\n",
      "torch.Size([64, 49])\n",
      "torch.Size([64, 46])\n",
      "torch.Size([64, 48])\n",
      "torch.Size([64, 47])\n",
      "torch.Size([64, 49])\n",
      "torch.Size([64, 49])\n",
      "torch.Size([64, 49])\n",
      "torch.Size([64, 45])\n",
      "torch.Size([64, 48])\n",
      "torch.Size([64, 48])\n",
      "torch.Size([64, 46])\n",
      "torch.Size([64, 49])\n",
      "torch.Size([64, 47])\n",
      "torch.Size([64, 46])\n",
      "torch.Size([64, 49])\n",
      "torch.Size([64, 48])\n",
      "torch.Size([64, 46])\n",
      "torch.Size([64, 47])\n",
      "torch.Size([64, 46])\n",
      "torch.Size([64, 45])\n",
      "torch.Size([64, 46])\n",
      "torch.Size([64, 46])\n",
      "torch.Size([64, 49])\n",
      "torch.Size([64, 44])\n",
      "torch.Size([64, 48])\n",
      "torch.Size([64, 44])\n",
      "torch.Size([64, 46])\n",
      "torch.Size([64, 47])\n",
      "torch.Size([64, 45])\n",
      "torch.Size([64, 40])\n",
      "torch.Size([64, 48])\n",
      "torch.Size([64, 45])\n",
      "torch.Size([64, 49])\n",
      "torch.Size([64, 49])\n",
      "torch.Size([64, 48])\n",
      "torch.Size([64, 48])\n",
      "torch.Size([64, 47])\n",
      "torch.Size([64, 44])\n",
      "torch.Size([64, 45])\n",
      "torch.Size([64, 48])\n",
      "torch.Size([64, 48])\n",
      "torch.Size([64, 48])\n",
      "torch.Size([64, 41])\n",
      "torch.Size([64, 45])\n",
      "torch.Size([64, 47])\n",
      "torch.Size([64, 49])\n",
      "torch.Size([64, 46])\n",
      "torch.Size([64, 45])\n",
      "torch.Size([64, 45])\n",
      "torch.Size([64, 49])\n",
      "torch.Size([64, 43])\n",
      "torch.Size([64, 43])\n",
      "torch.Size([64, 47])\n",
      "torch.Size([64, 45])\n",
      "torch.Size([64, 46])\n",
      "torch.Size([64, 49])\n",
      "torch.Size([64, 47])\n",
      "torch.Size([64, 46])\n",
      "torch.Size([64, 48])\n",
      "torch.Size([64, 48])\n",
      "torch.Size([64, 49])\n",
      "torch.Size([64, 49])\n",
      "torch.Size([64, 46])\n",
      "torch.Size([64, 46])\n",
      "torch.Size([64, 47])\n",
      "torch.Size([64, 49])\n",
      "torch.Size([64, 48])\n",
      "torch.Size([64, 45])\n",
      "torch.Size([64, 49])\n",
      "torch.Size([64, 47])\n",
      "torch.Size([64, 47])\n",
      "torch.Size([64, 48])\n",
      "torch.Size([64, 46])\n",
      "torch.Size([64, 48])\n",
      "torch.Size([64, 48])\n",
      "torch.Size([64, 49])\n",
      "torch.Size([64, 46])\n",
      "torch.Size([64, 48])\n",
      "torch.Size([64, 46])\n",
      "torch.Size([64, 48])\n",
      "torch.Size([64, 45])\n",
      "torch.Size([64, 46])\n",
      "torch.Size([64, 49])\n",
      "torch.Size([64, 48])\n",
      "torch.Size([64, 48])\n",
      "torch.Size([64, 46])\n",
      "torch.Size([64, 49])\n",
      "torch.Size([64, 44])\n",
      "torch.Size([64, 45])\n",
      "torch.Size([64, 49])\n",
      "torch.Size([64, 48])\n",
      "torch.Size([64, 49])\n",
      "torch.Size([64, 47])\n",
      "torch.Size([64, 48])\n",
      "torch.Size([64, 45])\n",
      "torch.Size([64, 49])\n",
      "torch.Size([64, 48])\n",
      "torch.Size([64, 46])\n",
      "torch.Size([64, 49])\n",
      "torch.Size([64, 49])\n",
      "torch.Size([64, 44])\n",
      "torch.Size([64, 45])\n",
      "torch.Size([64, 49])\n",
      "torch.Size([64, 45])\n",
      "torch.Size([64, 42])\n",
      "torch.Size([64, 49])\n",
      "torch.Size([64, 45])\n",
      "torch.Size([64, 49])\n",
      "torch.Size([64, 49])\n",
      "torch.Size([64, 43])\n",
      "torch.Size([64, 46])\n",
      "torch.Size([64, 45])\n",
      "torch.Size([64, 49])\n",
      "torch.Size([64, 49])\n",
      "torch.Size([64, 45])\n",
      "torch.Size([64, 48])\n",
      "torch.Size([64, 47])\n",
      "torch.Size([64, 44])\n",
      "torch.Size([64, 46])\n",
      "torch.Size([64, 47])\n",
      "torch.Size([64, 48])\n",
      "torch.Size([64, 49])\n",
      "torch.Size([64, 49])\n",
      "torch.Size([64, 41])\n",
      "torch.Size([64, 48])\n",
      "torch.Size([64, 49])\n",
      "torch.Size([64, 47])\n",
      "torch.Size([64, 49])\n",
      "torch.Size([64, 48])\n",
      "torch.Size([64, 46])\n",
      "torch.Size([64, 46])\n",
      "torch.Size([64, 47])\n",
      "torch.Size([64, 47])\n",
      "torch.Size([64, 49])\n",
      "torch.Size([64, 49])\n",
      "torch.Size([64, 49])\n",
      "torch.Size([64, 47])\n",
      "torch.Size([64, 47])\n",
      "torch.Size([64, 46])\n",
      "torch.Size([64, 49])\n",
      "torch.Size([64, 49])\n",
      "torch.Size([64, 41])\n",
      "torch.Size([64, 47])\n",
      "torch.Size([64, 47])\n",
      "torch.Size([64, 47])\n",
      "torch.Size([64, 47])\n",
      "torch.Size([64, 47])\n",
      "torch.Size([64, 49])\n",
      "torch.Size([64, 49])\n",
      "torch.Size([64, 47])\n",
      "torch.Size([64, 49])\n",
      "torch.Size([64, 44])\n",
      "torch.Size([64, 47])\n",
      "torch.Size([64, 48])\n",
      "torch.Size([64, 45])\n",
      "torch.Size([64, 49])\n",
      "torch.Size([64, 49])\n",
      "torch.Size([64, 48])\n",
      "torch.Size([64, 49])\n",
      "torch.Size([64, 49])\n",
      "torch.Size([64, 45])\n",
      "torch.Size([64, 46])\n",
      "torch.Size([64, 48])\n",
      "torch.Size([64, 43])\n",
      "torch.Size([64, 41])\n",
      "torch.Size([64, 48])\n",
      "torch.Size([64, 49])\n",
      "torch.Size([64, 48])\n",
      "torch.Size([64, 47])\n",
      "torch.Size([64, 46])\n",
      "torch.Size([64, 49])\n",
      "torch.Size([64, 49])\n",
      "torch.Size([64, 48])\n",
      "torch.Size([64, 46])\n",
      "torch.Size([64, 46])\n",
      "torch.Size([64, 49])\n",
      "torch.Size([64, 49])\n",
      "torch.Size([64, 48])\n",
      "torch.Size([64, 47])\n",
      "torch.Size([64, 45])\n",
      "torch.Size([64, 43])\n",
      "torch.Size([64, 47])\n",
      "torch.Size([64, 47])\n",
      "torch.Size([64, 44])\n",
      "torch.Size([64, 47])\n",
      "torch.Size([64, 47])\n",
      "torch.Size([64, 48])\n",
      "torch.Size([64, 48])\n",
      "torch.Size([64, 47])\n",
      "torch.Size([64, 49])\n",
      "torch.Size([64, 46])\n",
      "torch.Size([64, 49])\n",
      "torch.Size([64, 48])\n",
      "torch.Size([64, 45])\n",
      "torch.Size([64, 42])\n",
      "torch.Size([64, 47])\n",
      "torch.Size([64, 49])\n",
      "torch.Size([64, 41])\n",
      "torch.Size([64, 46])\n",
      "torch.Size([64, 46])\n",
      "torch.Size([64, 49])\n",
      "torch.Size([64, 45])\n",
      "torch.Size([64, 47])\n",
      "torch.Size([64, 49])\n",
      "torch.Size([64, 46])\n",
      "torch.Size([64, 48])\n",
      "torch.Size([64, 49])\n",
      "torch.Size([64, 48])\n",
      "torch.Size([64, 38])\n",
      "torch.Size([64, 45])\n",
      "torch.Size([64, 49])\n",
      "torch.Size([64, 47])\n",
      "torch.Size([64, 48])\n",
      "torch.Size([64, 49])\n",
      "torch.Size([64, 48])\n",
      "torch.Size([64, 48])\n",
      "torch.Size([64, 48])\n",
      "torch.Size([64, 46])\n",
      "torch.Size([64, 48])\n",
      "torch.Size([64, 49])\n",
      "torch.Size([64, 48])\n",
      "torch.Size([64, 45])\n",
      "torch.Size([64, 45])\n",
      "torch.Size([64, 48])\n",
      "torch.Size([64, 49])\n",
      "torch.Size([64, 49])\n",
      "torch.Size([64, 47])\n",
      "torch.Size([64, 49])\n",
      "torch.Size([64, 47])\n",
      "torch.Size([64, 43])\n",
      "torch.Size([64, 49])\n",
      "torch.Size([64, 45])\n",
      "torch.Size([64, 49])\n",
      "torch.Size([64, 49])\n",
      "torch.Size([64, 45])\n",
      "torch.Size([64, 49])\n",
      "torch.Size([64, 47])\n",
      "torch.Size([64, 43])\n",
      "torch.Size([64, 47])\n",
      "torch.Size([64, 49])\n",
      "torch.Size([64, 47])\n",
      "torch.Size([64, 43])\n",
      "torch.Size([64, 46])\n",
      "torch.Size([64, 45])\n",
      "torch.Size([64, 46])\n",
      "torch.Size([64, 49])\n",
      "torch.Size([64, 43])\n",
      "torch.Size([64, 48])\n",
      "torch.Size([64, 47])\n",
      "torch.Size([64, 49])\n",
      "torch.Size([64, 49])\n",
      "torch.Size([64, 48])\n",
      "torch.Size([64, 44])\n",
      "torch.Size([64, 45])\n",
      "torch.Size([64, 47])\n",
      "torch.Size([64, 48])\n",
      "torch.Size([64, 48])\n",
      "torch.Size([64, 45])\n"
     ]
    },
    {
     "name": "stdout",
     "output_type": "stream",
     "text": [
      "torch.Size([64, 49])\n",
      "torch.Size([64, 47])\n",
      "torch.Size([64, 43])\n",
      "torch.Size([64, 44])\n",
      "torch.Size([64, 47])\n",
      "torch.Size([64, 49])\n",
      "torch.Size([64, 42])\n",
      "torch.Size([64, 45])\n",
      "torch.Size([64, 48])\n",
      "torch.Size([64, 46])\n",
      "torch.Size([64, 49])\n",
      "torch.Size([64, 47])\n",
      "torch.Size([9, 41])\n"
     ]
    }
   ],
   "source": [
    "for i in test_data_iterator:\n",
    "    print(i.edits.shape)"
   ]
  },
  {
   "cell_type": "code",
   "execution_count": null,
   "id": "e18d1c86",
   "metadata": {},
   "outputs": [],
   "source": []
  },
  {
   "cell_type": "code",
   "execution_count": 66,
   "id": "3ef8b425",
   "metadata": {},
   "outputs": [
    {
     "name": "stdout",
     "output_type": "stream",
     "text": [
      "tokens.vocab.stoi['$$$'] = 0\n",
      "tokens.vocab.itos[0] = <unk>\n",
      "edits.vocab.stoi['$keep'] = 2\n",
      "edits.vocab.itos[2] = $transform_verb_vbz_vb\n"
     ]
    }
   ],
   "source": [
    "#string to index\n",
    "print(f\"tokens.vocab.stoi['$$$'] = {tokens.vocab.stoi['$$$']}\")\n",
    "print(f\"tokens.vocab.itos[0] = {tokens.vocab.itos[0]}\")\n",
    "print(f\"edits.vocab.stoi['$keep'] = {edits.vocab.stoi['$keep']}\")\n",
    "print(f\"edits.vocab.itos[2] = {edits.vocab.itos[13]}\")"
   ]
  },
  {
   "cell_type": "code",
   "execution_count": 67,
   "id": "547693f9",
   "metadata": {},
   "outputs": [
    {
     "name": "stdout",
     "output_type": "stream",
     "text": [
      "len(tokens.vocab) = 65707\n",
      "len(edits.vocab) = 22\n"
     ]
    }
   ],
   "source": [
    "#length of vocabular create from the data set\n",
    "print(f\"len(tokens.vocab) = {len(tokens.vocab)}\")\n",
    "print(f\"len(edits.vocab) = {len(edits.vocab)}\")"
   ]
  },
  {
   "cell_type": "code",
   "execution_count": 68,
   "id": "8d3243d5",
   "metadata": {
    "run_control": {
     "marked": false
    }
   },
   "outputs": [
    {
     "name": "stdout",
     "output_type": "stream",
     "text": [
      "len(tokens.vocab.freqs.keys()) = 65706\n",
      "len(edits.vocab.freqs.keys()) = 20 \n",
      "\n",
      "edits.vocab.freqs = Counter({'$keep': 1141063, '$delete': 41328, '$replace_.': 7600, '$replace_,': 7428, '$transform_agreement_singular': 6525, '$append_.': 5433, '$append_,': 5069, '$append_the': 4881, '$replace_to': 3771, '$replace_the': 3716, '$replace_of': 3586, '$transform_verb_vbz_vb': 3406, '$replace_in': 2999, '$transform_verb_vbg_vb': 2841, '$transform_verb_vbn_vb': 2757, '$append_to': 2612, '$append_of': 2500, '$transform_agreement_plural': 2442, '$append_and': 2370, '$append_a': 2283})\n"
     ]
    }
   ],
   "source": [
    "# no. of unique words in tokens and edits\n",
    "print(f\"len(tokens.vocab.freqs.keys()) = {len(tokens.vocab.freqs.keys())}\")\n",
    "print(f\"len(edits.vocab.freqs.keys()) = {len(edits.vocab.freqs.keys())} \\n\")\n",
    "print(f\"edits.vocab.freqs = {edits.vocab.freqs}\")"
   ]
  },
  {
   "cell_type": "code",
   "execution_count": 69,
   "id": "ae29120c",
   "metadata": {},
   "outputs": [
    {
     "name": "stdout",
     "output_type": "stream",
     "text": [
      "tokens.vocab.vectors.shape = torch.Size([65707, 100])\n",
      "edits.vocab.vectors.shape = torch.Size([22, 100])\n",
      "\n"
     ]
    }
   ],
   "source": [
    "#shape of vocabular create from the data set\n",
    "print(f\"tokens.vocab.vectors.shape = {tokens.vocab.vectors.shape}\")\n",
    "print(f\"edits.vocab.vectors.shape = {edits.vocab.vectors.shape}\")\n",
    "print()"
   ]
  },
  {
   "cell_type": "markdown",
   "id": "b7484bbd",
   "metadata": {
    "hide_input": false,
    "scrolled": true
   },
   "source": [
    "build vocab just takes unique tokens from the dataset and given a position and stores\n",
    "as a dictionary. when it is applied to the dataset the result comming from the \n",
    "bucket iteartor is just a postion no. from the build vocab and the rest is padded"
   ]
  },
  {
   "cell_type": "markdown",
   "id": "1b259fcb",
   "metadata": {},
   "source": [
    "### Model"
   ]
  },
  {
   "cell_type": "code",
   "execution_count": 70,
   "id": "9881b4ee",
   "metadata": {
    "code_folding": [],
    "run_control": {
     "marked": false
    }
   },
   "outputs": [],
   "source": [
    "class Seq_to_edits(nn.Module):\n",
    "    def __init__(self,token_vocab_size : int        # num of unique token in the entire dataset \n",
    "               ,edit_vocab_size : list             # [batch_size,max sentence size in the batch]\n",
    "               ,output_dim : list            # [batch_size,max sentence size in the batch]\n",
    "               ,embed_dim : int              # embedding dimension\n",
    "               ,num_of_filters : int         # to num of filters\n",
    "               ,filter_sizes : list          # list of sizes of each filter\n",
    "               ,dropout : int                # dropout percent ()\n",
    "               ,pad_index : int              # padding index from the vocab\n",
    "               ,max_lenght : int = 100):     # Maximum words in a list of tokens or sentence\n",
    "               \n",
    "        \n",
    "        \n",
    "        super().__init__()\n",
    "        self.device = device\n",
    "        \n",
    "        # Embedding layer\n",
    "        self.token_embedding_layer = nn.Embedding(token_vocab_size,embed_dim)\n",
    "        self.position_embedding_layer = nn.Embedding(max_lenght,embed_dim)\n",
    "        \n",
    "        # Multiple conv 1D layers \n",
    "        self.conv_layers = nn.ModuleList([nn.Conv1d(in_channels = 1,\n",
    "                                                    out_channels= 1,\n",
    "                                                    kernel_size = filter_size,\n",
    "                                                    padding = \"same\") \n",
    "                                          for filter_size in filter_sizes])\n",
    "        \n",
    "        self.final_layer = nn.Linear(embed_dim, edit_vocab_size)\n",
    "        \n",
    "        # Dropout layers\n",
    "        self.dropout = nn.Dropout(dropout)\n",
    "        \n",
    "        self.scale = torch.sqrt(torch.FloatTensor([0.5])).to(device)\n",
    "        \n",
    "    def forward(self, tokens):\n",
    "        \n",
    "        # tokens size is [batch_size, max sentence size in the batch/token size]\n",
    "        \n",
    "        batch_size , num_of_tokens = tokens.shape\n",
    "        \n",
    "        position = torch.arange(0,num_of_tokens).unsqueeze(0)         # [1,num_of_tokens]\n",
    "        position = position.repeat(batch_size,1).to(self.device)    # [batch_size, num_of_tokens]\n",
    "        \n",
    "        # apply embedding layer\n",
    "        token_embeddings    = self.token_embedding_layer(tokens)\n",
    "        # position_embeddings = self.position_embedding_layer(position)\n",
    "        # token_embeddings = [batch_size, num_of_tokens,embedding dimension]\n",
    "        \n",
    "        # elementwise sum of tokens and position \n",
    "        combination = self.dropout(token_embeddings)#+position_embeddings)\n",
    "        # combination = [batch_size, num_of_tokens,embedding dimension]\n",
    "        #print(f\"batch_size, num_of_tokens,embedding dimension = {combination.shape}\")\n",
    "\n",
    "        # Apply perute similar to transposing in multi dimension\n",
    "        conved = combination.reshape(batch_size,-1).unsqueeze(1)\n",
    "        #conv_input = [batch size, 1, embedding dimension*num_of_tokens]\n",
    "        #print(f\"conv lay input = {conved.shape}\")\n",
    "        \n",
    "        # multiple convolution and activation layers\n",
    "        for i, conv_layer in enumerate(self.conv_layers):\n",
    "            #pass through convolutional layer\n",
    "            conved = conv_layer(self.dropout(conved))\n",
    "            #conved = [batch size, 1, embedding dimension*num_of_tokens]\n",
    "            \n",
    "            #pass through relu activation function\n",
    "            conved = F.relu(conved)*self.scale\n",
    "\n",
    "            #conved = [batch size, 1, embedding dimension*num_of_tokens]\n",
    "        \n",
    "        #print(f\"conv lay output = {conved.shape}\")\n",
    "        \n",
    "        conved = conved.squeeze(1).reshape(batch_size,num_of_tokens,-1)\n",
    "        #conved = [batch_size, num_of_tokens, embedding_dimension]\n",
    "        \n",
    "        \n",
    "        output = self.final_layer(conved+combination)*self.scale\n",
    "        #output = [batch size, num_of_tokens, target dimension]\n",
    "        #print(f\"output = {output.shape}\")\n",
    "        \n",
    "        return output"
   ]
  },
  {
   "cell_type": "raw",
   "id": "0b52face",
   "metadata": {
    "hide_input": false
   },
   "source": [
    "class Seq_to_edits(nn.Module):\n",
    "    def __init__(self,token_vocab_size : int        # num of unique token in the entire dataset \n",
    "               ,edit_vocab_size : list             # [batch_size,max sentence size in the batch]\n",
    "               ,output_dim : list            # [batch_size,max sentence size in the batch]\n",
    "               ,embed_dim : int              # embedding dimension\n",
    "               ,num_of_filters : int         # to num of filters\n",
    "               ,filter_sizes : list          # list of sizes of each filter\n",
    "               ,dropout : int                # dropout percent ()\n",
    "               ,pad_index : int              # padding index from the vocab\n",
    "               ,max_lenght : int = 100):     # Maximum words in a list of tokens or sentence\n",
    "               \n",
    "        \n",
    "        \n",
    "        super().__init__()\n",
    "        self.device = device\n",
    "        \n",
    "        # Embedding layer\n",
    "        self.token_embedding_layer = nn.Embedding(token_vocab_size,embed_dim)\n",
    "        \n",
    "        # Multiple conv 1D layers \n",
    "        self.conv_layers = nn.ModuleList([nn.Conv1d(in_channels = 1,\n",
    "                                                    out_channels= 1,\n",
    "                                                    kernel_size = filter_size,\n",
    "                                                    padding = \"same\",device=self.device) \n",
    "                                          for filter_size in filter_sizes])\n",
    "        \n",
    "        self.final_layer = nn.Linear(num_of_filters*embed_dim, edit_vocab_size)\n",
    "        \n",
    "        # Dropout layers\n",
    "        self.dropout = nn.Dropout(dropout)\n",
    "        \n",
    "        self.scale = torch.sqrt(torch.FloatTensor([0.5])).to(device)\n",
    "        \n",
    "     def forward(self, tokens):\n",
    "        \n",
    "        # tokens size is [batch_size, max sentence size in the batch/token size]\n",
    "        batch_size , num_of_tokens = tokens.shape\n",
    "        \n",
    "        # apply embedding layer\n",
    "        token_embeddings    = self.dropout(self.token_embedding_layer(tokens))\n",
    "        # token_embeddings = [batch_size, num_of_tokens, embedding dimension]\n",
    "        # print(f\"batch_size, num_of_tokens,embedding_dimension = {token_embeddings.shape}\")\n",
    "\n",
    "        # Apply perute similar to transposing in multi dimension\n",
    "        conv_input = token_embeddings.reshape(batch_size,-1).unsqueeze(1)\n",
    "        # conv_input = [batch size, 1, embedding_dimension*num_of_tokens]\n",
    "        # print(f\"conv lay input = {conv_input.shape}\")\n",
    "        \n",
    "        conved = [conv_layer(conv_input).squeeze(1) for conv_layer in self.conv_layers]\n",
    "        \n",
    "        cat = self.dropout(F.relu(torch.cat(conved, dim = 1)))\n",
    "        # [batch size, embedding dimension*num_of_tokens*num_of_filter]\n",
    "\n",
    "        conved = cat.reshape(batch_size,num_of_tokens,-1)\n",
    "        # conved = [batch_size, num_of_tokens, embedding_dimension*num_of_filters]\n",
    "        # print(f\"conved before output = {conved.shape}\")\n",
    "        \n",
    "        output = self.final_layer(conved)*self.scale\n",
    "        # output = [batch size, num_of_tokens, target dimension]\n",
    "        # print(f\"output = {output.shape}\")\n",
    "        \n",
    "        return output"
   ]
  },
  {
   "cell_type": "markdown",
   "id": "fad412d2",
   "metadata": {},
   "source": [
    "### Hyper parameters"
   ]
  },
  {
   "cell_type": "code",
   "execution_count": 71,
   "id": "b07bcb53",
   "metadata": {
    "hide_input": false
   },
   "outputs": [],
   "source": [
    "learning_rate = 0.01\n",
    "num_epochs = 75\n",
    "clip = 0.1\n",
    "INPUT_DIM = len(tokens.vocab)\n",
    "OUTPUT_DIM = len(edits.vocab)\n",
    "EMBEDDING_DIM = 100\n",
    "FILTER_SIZES = [1,2,3]\n",
    "N_FILTERS = len(FILTER_SIZES)\n",
    "DROPOUT = 0.75\n",
    "PAD_IDX = tokens.vocab.stoi[tokens.pad_token]\n",
    "UNK_IDX = tokens.vocab.stoi[tokens.unk_token]"
   ]
  },
  {
   "cell_type": "markdown",
   "id": "074921ca",
   "metadata": {},
   "source": [
    "### Model creation"
   ]
  },
  {
   "cell_type": "code",
   "execution_count": 72,
   "id": "c38ca13d",
   "metadata": {
    "hide_input": false,
    "run_control": {
     "marked": false
    }
   },
   "outputs": [],
   "source": [
    "# model is created\n",
    "\n",
    "model = Seq_to_edits(INPUT_DIM,OUTPUT_DIM,OUTPUT_DIM,EMBEDDING_DIM,N_FILTERS,FILTER_SIZES,DROPOUT,PAD_IDX)"
   ]
  },
  {
   "cell_type": "code",
   "execution_count": 73,
   "id": "9fa205d5",
   "metadata": {
    "hide_input": false
   },
   "outputs": [
    {
     "name": "stdout",
     "output_type": "stream",
     "text": [
      "The model has 6,582,931 trainable parameters\n"
     ]
    }
   ],
   "source": [
    "# trainable parameters are printed\n",
    "\n",
    "count_parameters= lambda model:sum(p.numel() for p in model.parameters() if p.requires_grad)\n",
    "\n",
    "print(f'The model has {count_parameters(model):,} trainable parameters')"
   ]
  },
  {
   "cell_type": "code",
   "execution_count": 74,
   "id": "862f3c77",
   "metadata": {
    "hide_input": false
   },
   "outputs": [
    {
     "data": {
      "text/plain": [
       "tensor([[ 0.0000,  0.0000,  0.0000,  ...,  0.0000,  0.0000,  0.0000],\n",
       "        [-0.6149,  0.9273,  0.5583,  ..., -0.0922, -0.0798, -1.2843],\n",
       "        [-0.0382, -0.2449,  0.7281,  ..., -0.1459,  0.8278,  0.2706],\n",
       "        ...,\n",
       "        [ 0.0000,  0.0000,  0.0000,  ...,  0.0000,  0.0000,  0.0000],\n",
       "        [ 0.0000,  0.0000,  0.0000,  ...,  0.0000,  0.0000,  0.0000],\n",
       "        [ 0.0000,  0.0000,  0.0000,  ...,  0.0000,  0.0000,  0.0000]])"
      ]
     },
     "execution_count": 74,
     "metadata": {},
     "output_type": "execute_result"
    }
   ],
   "source": [
    "# load the pre-tained embeddings \n",
    "\n",
    "pretrained_embeddings = tokens.vocab.vectors\n",
    "\n",
    "model.token_embedding_layer.weight.data.copy_(pretrained_embeddings)"
   ]
  },
  {
   "cell_type": "code",
   "execution_count": 75,
   "id": "6c21b7ae",
   "metadata": {
    "hide_input": false
   },
   "outputs": [],
   "source": [
    "# initialize zero weights for unknown and padding tokens.\n",
    "\n",
    "\n",
    "model.token_embedding_layer.weight.data[UNK_IDX] = torch.zeros(EMBEDDING_DIM)\n",
    "model.token_embedding_layer.weight.data[PAD_IDX] = torch.zeros(EMBEDDING_DIM)"
   ]
  },
  {
   "cell_type": "code",
   "execution_count": 76,
   "id": "40d081c6",
   "metadata": {
    "hide_input": false,
    "run_control": {
     "marked": false
    }
   },
   "outputs": [],
   "source": [
    "# Initialize optimizer and loss function\n",
    "\n",
    "criterion = nn.CrossEntropyLoss()\n",
    "optimizer = optim.Adam(model.parameters(), lr=learning_rate)\n",
    "\n",
    "n_total_steps = len(train_data_iterator)\n",
    "model = model.to(device)\n",
    "criterion = criterion.to(device)"
   ]
  },
  {
   "cell_type": "code",
   "execution_count": 77,
   "id": "9f7907ec",
   "metadata": {},
   "outputs": [
    {
     "data": {
      "text/plain": [
       "Seq_to_edits(\n",
       "  (token_embedding_layer): Embedding(65707, 100)\n",
       "  (position_embedding_layer): Embedding(100, 100)\n",
       "  (conv_layers): ModuleList(\n",
       "    (0): Conv1d(1, 1, kernel_size=(1,), stride=(1,), padding=same)\n",
       "    (1): Conv1d(1, 1, kernel_size=(2,), stride=(1,), padding=same)\n",
       "    (2): Conv1d(1, 1, kernel_size=(3,), stride=(1,), padding=same)\n",
       "  )\n",
       "  (final_layer): Linear(in_features=100, out_features=22, bias=True)\n",
       "  (dropout): Dropout(p=0.75, inplace=False)\n",
       ")"
      ]
     },
     "execution_count": 77,
     "metadata": {},
     "output_type": "execute_result"
    }
   ],
   "source": [
    "model"
   ]
  },
  {
   "cell_type": "markdown",
   "id": "6ea0798e",
   "metadata": {},
   "source": [
    "### Train and test functions"
   ]
  },
  {
   "cell_type": "code",
   "execution_count": 78,
   "id": "80f71b21",
   "metadata": {
    "scrolled": true
   },
   "outputs": [],
   "source": [
    "def train_model(model,data_iterator,optimizer,criterion,clip):\n",
    "    \n",
    "    model.train()\n",
    "    epoch_loss = 0\n",
    "    acc = 0\n",
    "        \n",
    "    for i, batch in enumerate(train_data_iterator):\n",
    "        \n",
    "        # Make the gradient vector to zero so \n",
    "        #So not to added with the new gradient\n",
    "        optimizer.zero_grad()\n",
    "\n",
    "        # converting to cpu or gpu variable\n",
    "        tokens_list = batch.tokens.to(device)\n",
    "        edits_list = batch.edits.to(device)\n",
    "        \n",
    "        # Forward pass\n",
    "        \n",
    "        # get output from the model\n",
    "        outputs = model(tokens_list)\n",
    "        # outputs = [batch size, num_of_tokens, target dimension]\n",
    "        \n",
    "        outputs = outputs.contiguous().view(-1, OUTPUT_DIM)\n",
    "        # outputs = [batch size, num_of_tokens*embedding dimension]\n",
    "        trg = batch.edits.contiguous().view(-1)\n",
    "        # trg = [batch size*num_of_tokens]\n",
    "        # print(f\"out dim = {outputs_1.shape}\")\n",
    "        \n",
    "        loss = criterion(outputs, trg)\n",
    "\n",
    "        # Backward and optimize\n",
    "        \n",
    "        # to calculate gradient\n",
    "        loss.backward()\n",
    "        #to avoid exploding gradient problem\n",
    "        torch.nn.utils.clip_grad_norm_(model.parameters(), clip)\n",
    "        # to make the updates in the parameter\n",
    "        optimizer.step()\n",
    "        \n",
    "        epoch_loss += loss.item()\n",
    "        \n",
    "        predicted = torch.argmax(outputs, dim=-1)\n",
    "        # print(f\"pre = {predicted.shape}\")\n",
    "        # print(f\"edit = {trg.shape}\")\n",
    "        \n",
    "        acc += accuracy_score(predicted, trg).item()\n",
    "        \n",
    "    acc = 100.0 * acc / len(data_iterator)\n",
    "    #to return the avg loss for this epoch to train the model\n",
    "    return (epoch_loss / len(data_iterator),acc)\n",
    "\n"
   ]
  },
  {
   "cell_type": "code",
   "execution_count": 79,
   "id": "921e2892",
   "metadata": {
    "hide_input": false,
    "scrolled": true
   },
   "outputs": [],
   "source": [
    "def evaluate_model(model, data_iterator, criterion):\n",
    "    \n",
    "    model.eval()\n",
    "\n",
    "    epoch_loss = 0\n",
    "    \n",
    "    acc = 0\n",
    "    \n",
    "    with torch.no_grad():\n",
    "        for i, batch in enumerate(data_iterator):\n",
    "            # converting to cpu or gpu variable\n",
    "            tokens_list = batch.tokens.to(device)\n",
    "            edits_list = batch.edits.to(device)\n",
    "            \n",
    "            outputs = model(tokens_list)\n",
    "            # outputs = [batch size, num_of_tokens, embedding dimension]\n",
    "\n",
    "            outputs = outputs.contiguous().view(-1, OUTPUT_DIM)\n",
    "            # outputs = [batch size, num_of_tokens*embedding dimension]\n",
    "            trg = batch.edits.contiguous().view(-1)\n",
    "            # trg = [batch size*num_of_tokens]\n",
    "            loss = criterion(outputs, trg)\n",
    "            epoch_loss += loss.item() \n",
    "            \n",
    "            predicted = torch.argmax(outputs, dim=-1)\n",
    "            # print(f\"pre = {predicted.shape}\")\n",
    "            # print(f\"edit = {edits_list.shape}\")\n",
    "\n",
    "            acc += accuracy_score(predicted, trg).item()\n",
    "        \n",
    "    acc = 100.0 * acc / len(data_iterator)\n",
    "\n",
    "    #to return the avg loss for this epoch to train the model\n",
    "    return (epoch_loss / len(data_iterator),acc)\n"
   ]
  },
  {
   "cell_type": "markdown",
   "id": "aabddc3b",
   "metadata": {},
   "source": [
    "#### actual train and testing"
   ]
  },
  {
   "cell_type": "code",
   "execution_count": 80,
   "id": "3e3e4184",
   "metadata": {},
   "outputs": [],
   "source": [
    "loss = []\n",
    "accuracy = []"
   ]
  },
  {
   "cell_type": "code",
   "execution_count": 81,
   "id": "2223181f",
   "metadata": {
    "run_control": {
     "marked": false
    }
   },
   "outputs": [
    {
     "name": "stdout",
     "output_type": "stream",
     "text": [
      "Epoch [1/75], Train Loss: 0.260, Train Accuracy: 94.877\n",
      "Epoch [2/75], Train Loss: 0.215, Train Accuracy: 95.469\n",
      "Epoch [3/75], Train Loss: 0.209, Train Accuracy: 95.497\n",
      "Epoch [4/75], Train Loss: 0.206, Train Accuracy: 95.516\n",
      "Epoch [5/75], Train Loss: 0.204, Train Accuracy: 95.517\n",
      "Epoch [6/75], Train Loss: 0.202, Train Accuracy: 95.525\n",
      "Epoch [7/75], Train Loss: 0.200, Train Accuracy: 95.542\n",
      "Epoch [8/75], Train Loss: 0.199, Train Accuracy: 95.550\n",
      "Epoch [9/75], Train Loss: 0.198, Train Accuracy: 95.562\n",
      "Epoch [10/75], Train Loss: 0.198, Train Accuracy: 95.554\n",
      "Epoch [11/75], Train Loss: 0.197, Train Accuracy: 95.560\n",
      "Epoch [12/75], Train Loss: 0.197, Train Accuracy: 95.562\n",
      "Epoch [13/75], Train Loss: 0.197, Train Accuracy: 95.559\n",
      "Epoch [14/75], Train Loss: 0.196, Train Accuracy: 95.565\n",
      "Epoch [15/75], Train Loss: 0.196, Train Accuracy: 95.574\n",
      "Epoch [16/75], Train Loss: 0.196, Train Accuracy: 95.580\n",
      "Epoch [17/75], Train Loss: 0.196, Train Accuracy: 95.577\n",
      "Epoch [18/75], Train Loss: 0.196, Train Accuracy: 95.582\n",
      "Epoch [19/75], Train Loss: 0.196, Train Accuracy: 95.585\n",
      "Epoch [20/75], Train Loss: 0.195, Train Accuracy: 95.588\n",
      "Epoch [21/75], Train Loss: 0.195, Train Accuracy: 95.591\n",
      "Epoch [22/75], Train Loss: 0.195, Train Accuracy: 95.586\n",
      "Epoch [23/75], Train Loss: 0.195, Train Accuracy: 95.590\n",
      "Epoch [24/75], Train Loss: 0.195, Train Accuracy: 95.596\n",
      "Epoch [25/75], Train Loss: 0.195, Train Accuracy: 95.597\n",
      "Epoch [26/75], Train Loss: 0.195, Train Accuracy: 95.590\n",
      "Epoch [27/75], Train Loss: 0.195, Train Accuracy: 95.599\n",
      "Epoch [28/75], Train Loss: 0.194, Train Accuracy: 95.599\n",
      "Epoch [29/75], Train Loss: 0.194, Train Accuracy: 95.606\n",
      "Epoch [30/75], Train Loss: 0.194, Train Accuracy: 95.606\n",
      "Epoch [31/75], Train Loss: 0.194, Train Accuracy: 95.593\n",
      "Epoch [32/75], Train Loss: 0.194, Train Accuracy: 95.608\n",
      "Epoch [33/75], Train Loss: 0.195, Train Accuracy: 95.595\n",
      "Epoch [34/75], Train Loss: 0.194, Train Accuracy: 95.595\n",
      "Epoch [35/75], Train Loss: 0.195, Train Accuracy: 95.591\n",
      "Epoch [36/75], Train Loss: 0.194, Train Accuracy: 95.598\n",
      "Epoch [37/75], Train Loss: 0.194, Train Accuracy: 95.608\n",
      "Epoch [38/75], Train Loss: 0.195, Train Accuracy: 95.591\n",
      "Epoch [39/75], Train Loss: 0.194, Train Accuracy: 95.595\n",
      "Epoch [40/75], Train Loss: 0.194, Train Accuracy: 95.602\n",
      "Epoch [41/75], Train Loss: 0.194, Train Accuracy: 95.600\n",
      "Epoch [42/75], Train Loss: 0.194, Train Accuracy: 95.591\n",
      "Epoch [43/75], Train Loss: 0.194, Train Accuracy: 95.604\n",
      "Epoch [44/75], Train Loss: 0.195, Train Accuracy: 95.591\n",
      "Epoch [45/75], Train Loss: 0.194, Train Accuracy: 95.600\n",
      "Epoch [46/75], Train Loss: 0.194, Train Accuracy: 95.606\n",
      "Epoch [47/75], Train Loss: 0.194, Train Accuracy: 95.598\n",
      "Epoch [48/75], Train Loss: 0.194, Train Accuracy: 95.601\n",
      "Epoch [49/75], Train Loss: 0.194, Train Accuracy: 95.600\n",
      "Epoch [50/75], Train Loss: 0.194, Train Accuracy: 95.595\n",
      "Epoch [51/75], Train Loss: 0.194, Train Accuracy: 95.592\n",
      "Epoch [52/75], Train Loss: 0.194, Train Accuracy: 95.597\n",
      "Epoch [53/75], Train Loss: 0.194, Train Accuracy: 95.599\n",
      "Epoch [54/75], Train Loss: 0.194, Train Accuracy: 95.609\n",
      "Epoch [55/75], Train Loss: 0.194, Train Accuracy: 95.598\n",
      "Epoch [56/75], Train Loss: 0.194, Train Accuracy: 95.598\n",
      "Epoch [57/75], Train Loss: 0.194, Train Accuracy: 95.599\n",
      "Epoch [58/75], Train Loss: 0.194, Train Accuracy: 95.599\n",
      "Epoch [59/75], Train Loss: 0.194, Train Accuracy: 95.596\n",
      "Epoch [60/75], Train Loss: 0.194, Train Accuracy: 95.598\n",
      "Epoch [61/75], Train Loss: 0.194, Train Accuracy: 95.599\n",
      "Epoch [62/75], Train Loss: 0.194, Train Accuracy: 95.605\n",
      "Epoch [63/75], Train Loss: 0.195, Train Accuracy: 95.587\n",
      "Epoch [64/75], Train Loss: 0.194, Train Accuracy: 95.594\n",
      "Epoch [65/75], Train Loss: 0.195, Train Accuracy: 95.588\n",
      "Epoch [66/75], Train Loss: 0.194, Train Accuracy: 95.587\n",
      "Epoch [67/75], Train Loss: 0.194, Train Accuracy: 95.606\n",
      "Epoch [68/75], Train Loss: 0.194, Train Accuracy: 95.610\n",
      "Epoch [69/75], Train Loss: 0.195, Train Accuracy: 95.592\n",
      "Epoch [70/75], Train Loss: 0.194, Train Accuracy: 95.597\n",
      "Epoch [71/75], Train Loss: 0.195, Train Accuracy: 95.593\n",
      "Epoch [72/75], Train Loss: 0.194, Train Accuracy: 95.602\n",
      "Epoch [73/75], Train Loss: 0.194, Train Accuracy: 95.592\n",
      "Epoch [74/75], Train Loss: 0.194, Train Accuracy: 95.604\n",
      "Epoch [75/75], Train Loss: 0.194, Train Accuracy: 95.599\n"
     ]
    }
   ],
   "source": [
    "# start = time.perf_counter()\n",
    "\n",
    "# try:\n",
    "for epoch in range(num_epochs):\n",
    "    train_loss,train_acc = train_model(model,train_data_iterator,optimizer,criterion,clip)\n",
    "    print (f'Epoch [{epoch+1}/{num_epochs}], Train Loss: {train_loss:.3f}, Train Accuracy: {train_acc:.3f}')\n",
    "    loss.append(train_loss)\n",
    "    accuracy.append(train_acc)\n",
    "    \n",
    "# finally:\n",
    "#     end = time.perf_counter()\n"
   ]
  },
  {
   "cell_type": "code",
   "execution_count": 82,
   "id": "cb752de9",
   "metadata": {},
   "outputs": [
    {
     "data": {
      "image/png": "[encoded data removed]",
      "text/plain": [
       "<Figure size 432x288 with 2 Axes>"
      ]
     },
     "metadata": {
      "needs_background": "light"
     },
     "output_type": "display_data"
    }
   ],
   "source": [
    "fig, axs = plt.subplots(2, 1)\n",
    "\n",
    "\n",
    "axs[0].plot(range(len(loss)),loss)\n",
    "axs[1].plot(range(len(accuracy)),accuracy)\n",
    "\n",
    "plt.setp(axs[1], xlabel='num of epoch')\n",
    "\n",
    "plt.setp(axs[0], ylabel='loss')\n",
    "plt.setp(axs[1], ylabel='acc')\n",
    "\n",
    "plt.savefig('my_plot.png')"
   ]
  },
  {
   "cell_type": "code",
   "execution_count": 30,
   "id": "3a239a4a",
   "metadata": {},
   "outputs": [
    {
     "data": {
      "text/plain": [
       "<Figure size 432x288 with 0 Axes>"
      ]
     },
     "metadata": {},
     "output_type": "display_data"
    }
   ],
   "source": [
    "plt.savefig('my_plot.png')"
   ]
  },
  {
   "cell_type": "code",
   "execution_count": 31,
   "id": "b991dddf",
   "metadata": {},
   "outputs": [
    {
     "name": "stdout",
     "output_type": "stream",
     "text": [
      "Test Loss 0.247 Test accuracy 96.267\n"
     ]
    }
   ],
   "source": [
    "test_loss,accuracy = evaluate_model(model, test_data_iterator, criterion)\n",
    "print(f\"Test Loss {test_loss:.3f} Test accuracy {accuracy:.3f}\")"
   ]
  },
  {
   "cell_type": "markdown",
   "id": "cff9b4e3",
   "metadata": {},
   "source": [
    "### Rough work"
   ]
  },
  {
   "cell_type": "code",
   "execution_count": null,
   "id": "4fdd3ea5",
   "metadata": {},
   "outputs": [],
   "source": [
    "l=['plus', ',', 'the', 'novelty', 'of', 'the', 'iphone', 'won', \"'t\", 'wear', 'off', ',', 'as', 'it', 'may', 'with', 'a', 'camcorder', ';', 'and', 'over', 'these', 'video', 'apps', 'have', 'fun', 'effects', 'that', 'a', 'camcorder', 'can', \"'t\", 'match', '.']\n",
    "l1=['$keep', '$keep', '$keep', '$keep', '$keep', '$keep', '$keep', '$keep', '$keep', '$keep', '$keep', '$keep', '$keep', '$keep', '$replace_might', '$keep', '$keep', '$keep', '$replace_,', '$keep', '$delete', '$keep', '$keep', '$keep', '$keep', '$keep', '$keep', '$keep', '$keep', '$keep', '$keep', '$keep', '$keep', '$keep']\n",
    "print(len(l))\n",
    "print(len(l1))"
   ]
  },
  {
   "cell_type": "code",
   "execution_count": null,
   "id": "0dac6a76",
   "metadata": {},
   "outputs": [],
   "source": [
    "a=[25, 13, 14, 29, 13, 13, 13, 25, 13, 13, 25, 21, 13, 13, 29, 13,  2,  2,\n",
    "        13, 13, 13, 25]\n",
    "b=[2, 2, 2, 3, 3, 2, 2, 2, 8, 2, 2, 2, 2, 2, 2, 1, 1, 1, 1, 1, 1, 1, 1, 1,\n",
    "        1, 1, 1, 1, 1, 1, 1, 1, 1, 1, 1, 1, 1, 1, 1, 1, 1, 1, 1]"
   ]
  },
  {
   "cell_type": "code",
   "execution_count": null,
   "id": "c4affb8b",
   "metadata": {},
   "outputs": [],
   "source": [
    "print(len(a))\n",
    "print(len(b))"
   ]
  },
  {
   "cell_type": "code",
   "execution_count": null,
   "id": "12eb30ef",
   "metadata": {},
   "outputs": [],
   "source": []
  },
  {
   "cell_type": "code",
   "execution_count": null,
   "id": "3357e06b",
   "metadata": {},
   "outputs": [],
   "source": []
  },
  {
   "cell_type": "code",
   "execution_count": null,
   "id": "d3aabdf8",
   "metadata": {},
   "outputs": [],
   "source": [
    "n_embeddings, dim = 10,4 #10 - # of vocac size 4 - # of emdebbing dimension"
   ]
  },
  {
   "cell_type": "code",
   "execution_count": null,
   "id": "6b779edf",
   "metadata": {
    "run_control": {
     "marked": false
    }
   },
   "outputs": [],
   "source": [
    "m = nn.Conv1d(1, 2, 3)\n",
    "input = torch.randn(2, 1, 5) # (batch size, no. of channel, # of words)\n",
    "# x = emb_1(input)\n",
    "output = m(input)"
   ]
  },
  {
   "cell_type": "code",
   "execution_count": null,
   "id": "4fa9849f",
   "metadata": {},
   "outputs": [],
   "source": [
    "input.shape"
   ]
  },
  {
   "cell_type": "code",
   "execution_count": null,
   "id": "f78c5387",
   "metadata": {},
   "outputs": [],
   "source": []
  },
  {
   "cell_type": "code",
   "execution_count": null,
   "id": "cd92e254",
   "metadata": {},
   "outputs": [],
   "source": [
    "output.shape"
   ]
  },
  {
   "cell_type": "code",
   "execution_count": null,
   "id": "72af8a52",
   "metadata": {},
   "outputs": [],
   "source": []
  },
  {
   "cell_type": "code",
   "execution_count": null,
   "id": "492ce96f",
   "metadata": {
    "run_control": {
     "marked": false
    }
   },
   "outputs": [],
   "source": [
    "from torch.nn import Embedding as emb\n",
    "\n",
    "emb_1 = emb(188, 50)\n",
    "print(f\"embedding {emb_1}\")\n",
    "print(f\"embedding weight's shape {emb_1.weight.shape}\") #requires_grad=True therefore the matrix is learnable\n",
    "\n",
    "print(f\"values of weight {emb_1.weight}\")\n",
    "\n",
    "for batch in train_data_iterator:\n",
    "    x = emb_1(batch.tokens)"
   ]
  },
  {
   "cell_type": "code",
   "execution_count": null,
   "id": "f8570b31",
   "metadata": {
    "scrolled": true
   },
   "outputs": [],
   "source": [
    "x.shape"
   ]
  },
  {
   "cell_type": "code",
   "execution_count": null,
   "id": "5331915f",
   "metadata": {},
   "outputs": [],
   "source": [
    "x = torch.tensor([[1,2,4],[1, 2, 3]])\n",
    "print(x.shape)\n",
    "x=x.repeat(4, 2)\n",
    "print(x.shape)\n"
   ]
  },
  {
   "cell_type": "code",
   "execution_count": null,
   "id": "287c316f",
   "metadata": {},
   "outputs": [],
   "source": [
    "import torch\n",
    "import torch.nn as nn"
   ]
  },
  {
   "cell_type": "code",
   "execution_count": null,
   "id": "bb6f4695",
   "metadata": {},
   "outputs": [],
   "source": [
    "x_input = torch.randn([2,4,5])\n",
    "\n",
    "# print(x_input)\n",
    "x_input = x_input.permute(0,2,1).reshape(2,-1).unsqueeze(1)\n",
    "print(x_input.shape)\n",
    "print(x_input)"
   ]
  },
  {
   "cell_type": "code",
   "execution_count": null,
   "id": "90e442ec",
   "metadata": {},
   "outputs": [],
   "source": [
    "a = nn.Conv2d(in_channels =1 ,out_channels= 1,kernel_size = 1)(x_input)\n",
    "b = nn.Conv2d(in_channels =1 ,out_channels= 1,kernel_size = 2)(a)\n",
    "c = nn.Conv2d(in_channels =1 ,out_channels= 1,kernel_size = 6)(b)"
   ]
  },
  {
   "cell_type": "code",
   "execution_count": null,
   "id": "6af6edc4",
   "metadata": {},
   "outputs": [],
   "source": [
    "print(f\"a = {a.shape}\")\n",
    "print(f\"b = {b.shape}\")\n",
    "print(f\"c = {c.shape}\")"
   ]
  },
  {
   "cell_type": "code",
   "execution_count": null,
   "id": "f459c552",
   "metadata": {},
   "outputs": [],
   "source": [
    "d = c.squeeze(1).reshape(2,5,-1)\n",
    "d.shape\n"
   ]
  },
  {
   "cell_type": "code",
   "execution_count": null,
   "id": "c06aa118",
   "metadata": {},
   "outputs": [],
   "source": [
    "print(f\"f = {f.shape}\")"
   ]
  },
  {
   "cell_type": "code",
   "execution_count": null,
   "id": "a473d14c",
   "metadata": {
    "scrolled": true
   },
   "outputs": [],
   "source": [
    "g = nn.Conv1d(in_channels =1 ,out_channels= 4,kernel_size = 3)(f)"
   ]
  },
  {
   "cell_type": "code",
   "execution_count": null,
   "id": "a74645c0",
   "metadata": {},
   "outputs": [],
   "source": [
    "print(f\"g = {g.shape}\")"
   ]
  },
  {
   "cell_type": "code",
   "execution_count": null,
   "id": "232c5cb3",
   "metadata": {},
   "outputs": [],
   "source": []
  },
  {
   "cell_type": "code",
   "execution_count": null,
   "id": "b812f24a",
   "metadata": {},
   "outputs": [],
   "source": []
  },
  {
   "cell_type": "code",
   "execution_count": null,
   "id": "2d6ddbb3",
   "metadata": {},
   "outputs": [],
   "source": []
  },
  {
   "cell_type": "code",
   "execution_count": null,
   "id": "7f059bcd",
   "metadata": {},
   "outputs": [],
   "source": []
  },
  {
   "cell_type": "code",
   "execution_count": null,
   "id": "4eb7f220",
   "metadata": {},
   "outputs": [],
   "source": []
  },
  {
   "cell_type": "code",
   "execution_count": null,
   "id": "d2e53855",
   "metadata": {},
   "outputs": [],
   "source": [
    "a = torch.randn(2, 5, 4)\n",
    "a"
   ]
  },
  {
   "cell_type": "code",
   "execution_count": null,
   "id": "6fc472d4",
   "metadata": {},
   "outputs": [],
   "source": [
    "torch.argmax(a, dim=1).shape"
   ]
  },
  {
   "cell_type": "code",
   "execution_count": null,
   "id": "943afee3",
   "metadata": {},
   "outputs": [],
   "source": [
    "torch.argmax(a, dim=-1)"
   ]
  },
  {
   "cell_type": "code",
   "execution_count": null,
   "id": "48e1b13d",
   "metadata": {},
   "outputs": [],
   "source": []
  },
  {
   "cell_type": "code",
   "execution_count": null,
   "id": "aa6634e2",
   "metadata": {},
   "outputs": [],
   "source": []
  },
  {
   "cell_type": "code",
   "execution_count": null,
   "id": "22a1b1da",
   "metadata": {},
   "outputs": [],
   "source": [
    "y_act = torch.Tensor([2,0,1])\n",
    "y_pred = torch.argmax(torch.Tensor([[0.1,3,5],[3,2,1],[0,1,0]]),dim=1)\n",
    "y_pred_1 = torch.argmax(torch.Tensor([[1,5,2],[3,2,1],[0,1,0]]),dim=1)"
   ]
  },
  {
   "cell_type": "code",
   "execution_count": null,
   "id": "5aa63f78",
   "metadata": {},
   "outputs": [],
   "source": [
    "print(accuracy_score(y_pred,y_act))"
   ]
  },
  {
   "cell_type": "code",
   "execution_count": null,
   "id": "cafb55e0",
   "metadata": {},
   "outputs": [],
   "source": [
    "print(accuracy_score(y_pred_1,y_act))"
   ]
  },
  {
   "cell_type": "code",
   "execution_count": null,
   "id": "9a5b7fc6",
   "metadata": {},
   "outputs": [],
   "source": []
  },
  {
   "cell_type": "code",
   "execution_count": null,
   "id": "5f9a2799",
   "metadata": {},
   "outputs": [],
   "source": []
  },
  {
   "cell_type": "code",
   "execution_count": null,
   "id": "fd79f763",
   "metadata": {},
   "outputs": [],
   "source": []
  },
  {
   "cell_type": "code",
   "execution_count": null,
   "id": "356f74a8",
   "metadata": {},
   "outputs": [],
   "source": []
  },
  {
   "cell_type": "code",
   "execution_count": null,
   "id": "77a40d09",
   "metadata": {},
   "outputs": [],
   "source": [
    "x_input = torch.randn([2,4,5])\n",
    "\n",
    "# print(x_input)\n",
    "x_input = x_input.reshape(2,-1).unsqueeze(1)\n",
    "print(x_input.shape)\n",
    "print(x_input)"
   ]
  },
  {
   "cell_type": "code",
   "execution_count": null,
   "id": "13f25d69",
   "metadata": {
    "hide_input": false,
    "scrolled": false
   },
   "outputs": [],
   "source": [
    "b1 = nn.Conv1d(in_channels =1 ,out_channels= 1,kernel_size = 1,padding=\"same\")(x_input).squeeze(1)\n",
    "c1 = nn.Conv1d(in_channels =1 ,out_channels= 1,kernel_size = 3,padding=\"same\")(x_input).squeeze(1)\n",
    "d1 = nn.Conv1d(in_channels =1 ,out_channels= 1,kernel_size = 5,padding=\"same\")(x_input).squeeze(1)"
   ]
  },
  {
   "cell_type": "code",
   "execution_count": null,
   "id": "58624c23",
   "metadata": {},
   "outputs": [],
   "source": [
    "print(f\"b1 = {b1.shape}\")\n",
    "print(f\"c1 = {c1.shape}\")\n",
    "print(f\"d1 = {d1.shape}\")"
   ]
  },
  {
   "cell_type": "code",
   "execution_count": null,
   "id": "fc3837d4",
   "metadata": {},
   "outputs": [],
   "source": [
    "f = torch.cat((b1,c1,d1),1)"
   ]
  },
  {
   "cell_type": "code",
   "execution_count": null,
   "id": "6978f08a",
   "metadata": {},
   "outputs": [],
   "source": [
    "f.shape"
   ]
  },
  {
   "cell_type": "code",
   "execution_count": null,
   "id": "d13044da",
   "metadata": {},
   "outputs": [],
   "source": []
  },
  {
   "cell_type": "code",
   "execution_count": null,
   "id": "6c18b54a",
   "metadata": {},
   "outputs": [],
   "source": [
    "a1 = nn.Conv1d(in_channels =4 ,out_channels= 4,kernel_size = 2,padding=\"same\")(x_input)\n",
    "b1 = nn.Conv1d(in_channels =4 ,out_channels= 4,kernel_size = 1,padding=\"same\")(x_input)\n",
    "c1 = nn.Conv1d(in_channels =4 ,out_channels= 4,kernel_size = 3,padding=\"same\")(x_input)\n",
    "d1 = nn.Conv1d(in_channels =4 ,out_channels= 4,kernel_size = 4,padding=\"same\")(x_input)\n",
    "e1 = torch.cat([a1,b1,c1,d1],dim =1)\n",
    "f1 = nn.Conv1d(in_channels = e1.shape[1],out_channels= 25,kernel_size = 1)(e1)"
   ]
  },
  {
   "cell_type": "code",
   "execution_count": null,
   "id": "3a5da08c",
   "metadata": {},
   "outputs": [],
   "source": [
    "pooled1 = [a1,b1,c1,d1]"
   ]
  },
  {
   "cell_type": "code",
   "execution_count": null,
   "id": "ae6be343",
   "metadata": {},
   "outputs": [],
   "source": [
    "print(f\"e1 = {e1.shape}\")"
   ]
  },
  {
   "cell_type": "code",
   "execution_count": null,
   "id": "7ded3885",
   "metadata": {},
   "outputs": [],
   "source": [
    "print(f1.shape)"
   ]
  },
  {
   "cell_type": "code",
   "execution_count": null,
   "id": "5f020976",
   "metadata": {},
   "outputs": [],
   "source": []
  },
  {
   "cell_type": "code",
   "execution_count": null,
   "id": "a33a1410",
   "metadata": {},
   "outputs": [],
   "source": []
  },
  {
   "cell_type": "code",
   "execution_count": null,
   "id": "d53d70e3",
   "metadata": {},
   "outputs": [],
   "source": [
    "x  = np.arange(0,10,1)\n",
    "y1 = np.random.randn(10)\n",
    "y3 = np.random.randn(10)\n",
    "\n",
    "# Create subplots\n",
    "fig, ax = plt.subplots(2, 1, sharex='col')\n",
    "ax[0].plot(x,y1)\n",
    "ax[1].plot(x,y3)"
   ]
  },
  {
   "cell_type": "code",
   "execution_count": null,
   "id": "3c9970e2",
   "metadata": {},
   "outputs": [],
   "source": []
  },
  {
   "cell_type": "code",
   "execution_count": null,
   "id": "e9c20c44",
   "metadata": {},
   "outputs": [],
   "source": []
  },
  {
   "cell_type": "code",
   "execution_count": null,
   "id": "a4fa5590",
   "metadata": {},
   "outputs": [],
   "source": [
    " torch.sqrt(torch.FloatTensor([0.5]))"
   ]
  },
  {
   "cell_type": "code",
   "execution_count": null,
   "id": "55dfc3c4",
   "metadata": {},
   "outputs": [],
   "source": [
    "\n",
    "# print('Finished Training')\n",
    "# PATH = './cnn.pth'\n",
    "# torch.save(model.state_dict(), PATH)"
   ]
  },
  {
   "cell_type": "code",
   "execution_count": null,
   "id": "bd64da09",
   "metadata": {},
   "outputs": [],
   "source": [
    "x_input = torch.randn([2,4,5])\n",
    "\n",
    "# print(x_input)\n",
    "x_input = x_input.reshape(2,-1).unsqueeze(1)\n",
    "print(x_input.shape)\n",
    "print(x_input)"
   ]
  },
  {
   "cell_type": "code",
   "execution_count": null,
   "id": "e92d4ab7",
   "metadata": {},
   "outputs": [],
   "source": [
    "# Multiple conv 1D layers \n",
    "conv_layers = nn.ModuleList([nn.Conv1d(in_channels = 1,\n",
    "                                            out_channels= 1,\n",
    "                                            kernel_size = filter_size,\n",
    "                                            padding = \"same\") \n",
    "                                  for filter_size in [1,3,5]])\n",
    "\n",
    "final_layer = nn.Linear(5*3, 3)\n",
    "\n",
    "# Dropout layers\n",
    "dropout = nn.Dropout(0.5)"
   ]
  },
  {
   "cell_type": "code",
   "execution_count": null,
   "id": "d309ebb3",
   "metadata": {},
   "outputs": [],
   "source": [
    "\n",
    "# tokens size is [batch_size, max sentence size in the batch/token size]\n",
    "# token_embeddings = [2, 1, 4*5]\n",
    "\n",
    "conved = [F.relu(conv_layer(x_input)).squeeze(1) for conv_layer in conv_layers]\n",
    "print(len(conved))\n",
    "concat = dropout(torch.cat(conved, dim = 1))\n",
    "# [batch size, embedding dimension*num_of_tokens*num_of_filter]"
   ]
  },
  {
   "cell_type": "code",
   "execution_count": null,
   "id": "25e4192b",
   "metadata": {},
   "outputs": [],
   "source": [
    "concat.shape"
   ]
  },
  {
   "cell_type": "code",
   "execution_count": null,
   "id": "ef59a3bc",
   "metadata": {},
   "outputs": [],
   "source": [
    "conved = cat.reshape(2,4,-1)\n",
    "# conved = [batch_size, num_of_tokens, embedding_dimension*num_of_filters]\n",
    "conved.shape"
   ]
  },
  {
   "cell_type": "code",
   "execution_count": null,
   "id": "eb151724",
   "metadata": {},
   "outputs": [],
   "source": [
    "output = final_layer(conved)"
   ]
  },
  {
   "cell_type": "code",
   "execution_count": null,
   "id": "9f0177c2",
   "metadata": {},
   "outputs": [],
   "source": []
  },
  {
   "cell_type": "code",
   "execution_count": null,
   "id": "23e0b659",
   "metadata": {},
   "outputs": [],
   "source": []
  },
  {
   "cell_type": "code",
   "execution_count": null,
   "id": "c4e22b27",
   "metadata": {},
   "outputs": [],
   "source": []
  },
  {
   "cell_type": "code",
   "execution_count": null,
   "id": "4f79c6b8",
   "metadata": {},
   "outputs": [],
   "source": []
  },
  {
   "cell_type": "code",
   "execution_count": null,
   "id": "de5a1c74",
   "metadata": {},
   "outputs": [],
   "source": []
  },
  {
   "cell_type": "code",
   "execution_count": null,
   "id": "52d44aca",
   "metadata": {},
   "outputs": [],
   "source": []
  },
  {
   "cell_type": "code",
   "execution_count": null,
   "id": "97d10c72",
   "metadata": {},
   "outputs": [],
   "source": []
  },
  {
   "cell_type": "code",
   "execution_count": null,
   "id": "d2212962",
   "metadata": {},
   "outputs": [],
   "source": []
  }
 ],
 "metadata": {
  "hide_input": false,
  "kernelspec": {
   "display_name": "Python [conda env:nn3]",
   "language": "python",
   "name": "conda-env-nn3-py"
  },
  "language_info": {
   "codemirror_mode": {
    "name": "ipython",
    "version": 3
   },
   "file_extension": ".py",
   "mimetype": "text/x-python",
   "name": "python",
   "nbconvert_exporter": "python",
   "pygments_lexer": "ipython3",
   "version": "3.7.13"
  },
  "nbTranslate": {
   "displayLangs": [
    "*"
   ],
   "hotkey": "alt-t",
   "langInMainMenu": true,
   "sourceLang": "en",
   "targetLang": "fr",
   "useGoogleTranslate": true
  },
  "toc": {
   "base_numbering": 1,
   "nav_menu": {
    "height": "265px",
    "width": "201px"
   },
   "number_sections": true,
   "sideBar": true,
   "skip_h1_title": false,
   "title_cell": "neural network",
   "title_sidebar": "Contents",
   "toc_cell": false,
   "toc_position": {
    "height": "calc(100% - 180px)",
    "left": "10px",
    "top": "150px",
    "width": "302.398px"
   },
   "toc_section_display": true,
   "toc_window_display": true
  },
  "varInspector": {
   "cols": {
    "lenName": 16,
    "lenType": 16,
    "lenVar": 40
   },
   "kernels_config": {
    "python": {
     "delete_cmd_postfix": "",
     "delete_cmd_prefix": "del ",
     "library": "var_list.py",
     "varRefreshCmd": "print(var_dic_list())"
    },
    "r": {
     "delete_cmd_postfix": ") ",
     "delete_cmd_prefix": "rm(",
     "library": "var_list.r",
     "varRefreshCmd": "cat(var_dic_list()) "
    }
   },
   "oldHeight": 337.852,
   "position": {
    "height": "359.852px",
    "left": "725px",
    "right": "20px",
    "top": "109px",
    "width": "544px"
   },
   "types_to_exclude": [
    "module",
    "function",
    "builtin_function_or_method",
    "instance",
    "_Feature"
   ],
   "varInspector_section_display": "block",
   "window_display": false
  },
  "vscode": {
   "interpreter": {
    "hash": "1d36ce9c6112765ad20cbf471b33373de7b9da6b2d9a2b18d6540897511eb08c"
   }
  }
 },
 "nbformat": 4,
 "nbformat_minor": 5
}
