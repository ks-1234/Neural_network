{
 "cells": [
  {
   "cell_type": "code",
   "execution_count": 5,
   "id": "0b69d99f",
   "metadata": {},
   "outputs": [],
   "source": [
    "import torch\n",
    "from torchtext.legacy.data import Field, TabularDataset, BucketIterator\n",
    "from torchtext.legacy import datasets\n",
    "import torch.nn as nn\n",
    "import torch.nn.functional as F\n",
    "import matplotlib.pyplot as plt\n",
    "import numpy as np\n",
    "\n",
    "import random\n",
    "import numpy as np"
   ]
  },
  {
   "cell_type": "code",
   "execution_count": 24,
   "id": "5e07596b",
   "metadata": {},
   "outputs": [],
   "source": [
    "#hypa\n",
    "BATCH_SIZE = 64\n",
    "device = torch.device('cuda' if torch.cuda.is_available() else 'cpu')"
   ]
  },
  {
   "cell_type": "code",
   "execution_count": 6,
   "id": "83351dec",
   "metadata": {},
   "outputs": [
    {
     "data": {
      "text/plain": [
       "<torch._C.Generator at 0x7f8b891c3f30>"
      ]
     },
     "execution_count": 6,
     "metadata": {},
     "output_type": "execute_result"
    }
   ],
   "source": [
    "# transform = transforms.Compose([transforms.ToTensor(),transforms.Normalize((0, 0, 0), (0, 0, 0))])\n",
    "SEED = 1234\n",
    "\n",
    "random.seed(SEED)\n",
    "np.random.seed(SEED)\n",
    "torch.manual_seed(SEED)\n",
    "\n",
    "# To make all the randomly generated values same for different excution for same values of the seed"
   ]
  },
  {
   "cell_type": "code",
   "execution_count": 11,
   "id": "34fc1650",
   "metadata": {},
   "outputs": [],
   "source": [
    "tokens = Field(sequential=True,use_vocab=True,lower=True)\n",
    "edits = Field(sequential=True,use_vocab=True,lower=True)\n",
    "\n",
    "fields = {'tokens':('tokens',tokens),'labels':('edits',edits)}\n",
    "\n",
    "train_data, test_data = TabularDataset.splits(path='data',train='ptrain.jsonl',test='val.jsonl',\n",
    "                                              format='json',fields=fields)\n",
    "\n",
    "# train_data"
   ]
  },
  {
   "cell_type": "raw",
   "id": "ad1fd890",
   "metadata": {},
   "source": [
    "Field class models common text processing datatypes that can be represented by tensors. It holds a Vocab object that defines the set of possible values for elements of the field and their corresponding numerical representations. The Field object also holds other parameters relating to how a datatype should be numericalized, such as a tokenization method and the kind of Tensor that should be produced.\n",
    "\n",
    "Create a TabularDataset given a path, file format, and field list. \n",
    "ie"
   ]
  },
  {
   "cell_type": "code",
   "execution_count": 13,
   "id": "227e3e42",
   "metadata": {},
   "outputs": [
    {
     "name": "stdout",
     "output_type": "stream",
     "text": [
      "<torchtext.legacy.data.example.Example object at 0x7f8b99546b50>\n",
      "dict_keys(['tokens', 'edits'])\n",
      "dict_values([['[cls]', 'plus', ',', 'the', 'novelty', 'of', 'the', 'iphone', 'won', \"'t\", 'wear', 'off', ',', 'as', 'it', 'may', 'with', 'a', 'camcorder', ';', 'and', 'over', 'these', 'video', 'apps', 'have', 'fun', 'effects', 'that', 'a', 'camcorder', 'can', \"'t\", 'match', '.', '[sep]'], ['$keep', '$keep', '$keep', '$keep', '$keep', '$keep', '$keep', '$keep', '$keep', '$keep', '$keep', '$keep', '$keep', '$keep', '$keep', '$replace_might', '$keep', '$keep', '$keep', '$replace_,', '$keep', '$delete', '$keep', '$keep', '$keep', '$keep', '$keep', '$keep', '$keep', '$keep', '$keep', '$keep', '$keep', '$keep', '$keep', '$keep']])\n"
     ]
    }
   ],
   "source": [
    "print(train_data[0])\n",
    "print(train_data[0].__dict__.keys())\n",
    "print(train_data[0].__dict__.values())"
   ]
  },
  {
   "cell_type": "code",
   "execution_count": 32,
   "id": "375b01e8",
   "metadata": {},
   "outputs": [],
   "source": [
    "tokens.build_vocab(train_data,min_freq=1,vectors='glove.6B.50d')\n",
    "edits.build_vocab(train_data,min_freq=1,vectors='glove.6B.50d')\n",
    "\n",
    "train_data_iterator, test_data_iterator = BucketIterator.splits((train_data,test_data),\n",
    "                                                                batch_size=BATCH_SIZE,\n",
    "                                                                device=device) "
   ]
  },
  {
   "cell_type": "code",
   "execution_count": 33,
   "id": "272e985f",
   "metadata": {},
   "outputs": [
    {
     "name": "stdout",
     "output_type": "stream",
     "text": [
      "<torchtext.legacy.data.iterator.BucketIterator object at 0x7f8b99682e50>\n"
     ]
    }
   ],
   "source": [
    "print(train_data_iterator)"
   ]
  },
  {
   "cell_type": "code",
   "execution_count": 36,
   "id": "5910fce5",
   "metadata": {},
   "outputs": [
    {
     "name": "stdout",
     "output_type": "stream",
     "text": [
      "tensor([   496,     90,    294,     12,    184,     34,     59,    115,  12794,\n",
      "            24,      2,     69,   1117,     13,    300,     29,     18,     12,\n",
      "            13,     11,     61,    716,      2,     14,   1751,    107,     29,\n",
      "             2,   2821,    496,    567,    132,      2,    532,      8,     89,\n",
      "            10,      2,      9,     30,    304,     11,     22,     62,   3530,\n",
      "             2,   2628,     78,     23,   2451,   3799,    452,  17415,    588,\n",
      "            12,     30,     52,     37,  11454,   2388,    273,     30, 112091,\n",
      "           699])\n"
     ]
    }
   ],
   "source": [
    "print(b.tokens[1])"
   ]
  },
  {
   "cell_type": "code",
   "execution_count": null,
   "id": "49a254dc",
   "metadata": {},
   "outputs": [],
   "source": []
  }
 ],
 "metadata": {
  "kernelspec": {
   "display_name": "Python [conda env:nn3]",
   "language": "python",
   "name": "conda-env-nn3-py"
  },
  "language_info": {
   "codemirror_mode": {
    "name": "ipython",
    "version": 3
   },
   "file_extension": ".py",
   "mimetype": "text/x-python",
   "name": "python",
   "nbconvert_exporter": "python",
   "pygments_lexer": "ipython3",
   "version": "3.7.13"
  }
 },
 "nbformat": 4,
 "nbformat_minor": 5
}
