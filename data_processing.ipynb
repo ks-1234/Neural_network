{
 "cells": [
  {
   "cell_type": "markdown",
   "id": "b3e954f4",
   "metadata": {},
   "source": [
    "## Data filtering with top 20 most common edits"
   ]
  },
  {
   "cell_type": "markdown",
   "id": "87ea7155",
   "metadata": {},
   "source": [
    "### Import"
   ]
  },
  {
   "cell_type": "code",
   "execution_count": 20,
   "id": "7fde6b5c",
   "metadata": {},
   "outputs": [],
   "source": [
    "from collections import Counter\n",
    "import jsonlines"
   ]
  },
  {
   "cell_type": "markdown",
   "id": "1e01e7b3",
   "metadata": {},
   "source": [
    "####  instal packages\n",
    "pip install jsonlines"
   ]
  },
  {
   "cell_type": "markdown",
   "id": "11b46f4e",
   "metadata": {},
   "source": [
    "### Loading the data"
   ]
  },
  {
   "cell_type": "code",
   "execution_count": 21,
   "id": "b4c52d4b",
   "metadata": {},
   "outputs": [],
   "source": [
    "data = []\n",
    "edits = []\n",
    "with jsonlines.open('./data_full/ptrain.jsonl') as f:\n",
    "    for line in f.iter():\n",
    "        data.append(line)\n",
    "        edits.append(line[\"labels\"])"
   ]
  },
  {
   "cell_type": "code",
   "execution_count": 22,
   "id": "61b0b968",
   "metadata": {},
   "outputs": [],
   "source": [
    "data_val = []\n",
    "edits_val = []\n",
    "with jsonlines.open('./data_full/val.jsonl') as f:\n",
    "    for line in f.iter():\n",
    "        data_val.append(line)\n",
    "        edits_val.append(line[\"labels\"])"
   ]
  },
  {
   "cell_type": "markdown",
   "id": "fe96436a",
   "metadata": {},
   "source": [
    "### removing [CLS] and [SEP] tokens"
   ]
  },
  {
   "cell_type": "code",
   "execution_count": 23,
   "id": "89b71b02",
   "metadata": {},
   "outputs": [],
   "source": [
    "removetoken = lambda x:x[1:-1]"
   ]
  },
  {
   "cell_type": "code",
   "execution_count": 24,
   "id": "ef416e14",
   "metadata": {},
   "outputs": [],
   "source": [
    "for d in data:\n",
    "    d[\"tokens\"] = removetoken(d[\"tokens\"])\n",
    "    d[\"labels\"] = removetoken(d[\"labels\"])"
   ]
  },
  {
   "cell_type": "code",
   "execution_count": 25,
   "id": "d04cea0f",
   "metadata": {},
   "outputs": [],
   "source": [
    "for d in data_val:\n",
    "    d[\"tokens\"] = removetoken(d[\"tokens\"])\n",
    "    d[\"labels\"] = removetoken(d[\"labels\"])"
   ]
  },
  {
   "cell_type": "code",
   "execution_count": 26,
   "id": "74ffb71f",
   "metadata": {},
   "outputs": [
    {
     "name": "stdout",
     "output_type": "stream",
     "text": [
      "200,000\n"
     ]
    }
   ],
   "source": [
    "print(f\"{len(data):,}\")"
   ]
  },
  {
   "cell_type": "code",
   "execution_count": 27,
   "id": "7f0c68ab",
   "metadata": {},
   "outputs": [
    {
     "name": "stdout",
     "output_type": "stream",
     "text": [
      "84,974\n"
     ]
    }
   ],
   "source": [
    "print(f\"{len(data_val):,}\")"
   ]
  },
  {
   "cell_type": "markdown",
   "id": "8eed9df7",
   "metadata": {},
   "source": [
    "### Finding most common 20 edits "
   ]
  },
  {
   "cell_type": "code",
   "execution_count": 28,
   "id": "900015e4",
   "metadata": {},
   "outputs": [],
   "source": [
    "flatten_edits_1 = [lst for edit in edits for lst in edit]"
   ]
  },
  {
   "cell_type": "code",
   "execution_count": 29,
   "id": "9ee75024",
   "metadata": {},
   "outputs": [
    {
     "name": "stdout",
     "output_type": "stream",
     "text": [
      "5,145,773\n"
     ]
    }
   ],
   "source": [
    "print(f\"{len(flatten_edits_1):,}\")"
   ]
  },
  {
   "cell_type": "code",
   "execution_count": 30,
   "id": "d95b2aaf",
   "metadata": {},
   "outputs": [
    {
     "data": {
      "text/plain": [
       "200000"
      ]
     },
     "execution_count": 30,
     "metadata": {},
     "output_type": "execute_result"
    }
   ],
   "source": [
    "len(edits)"
   ]
  },
  {
   "cell_type": "code",
   "execution_count": 31,
   "id": "2f385472",
   "metadata": {},
   "outputs": [],
   "source": [
    "key_1 = Counter(flatten_edits_1).most_common(20)"
   ]
  },
  {
   "cell_type": "code",
   "execution_count": 32,
   "id": "c4a372f6",
   "metadata": {},
   "outputs": [],
   "source": [
    "key_1 = [i[0] for i in key_1]"
   ]
  },
  {
   "cell_type": "code",
   "execution_count": 33,
   "id": "78a4171f",
   "metadata": {},
   "outputs": [
    {
     "data": {
      "text/plain": [
       "['$KEEP',\n",
       " '$DELETE',\n",
       " '$REPLACE_.',\n",
       " '$REPLACE_,',\n",
       " '$TRANSFORM_AGREEMENT_SINGULAR',\n",
       " '$APPEND_.',\n",
       " '$APPEND_,',\n",
       " '$APPEND_the',\n",
       " '$REPLACE_to',\n",
       " '$REPLACE_the',\n",
       " '$TRANSFORM_VERB_VBZ_VB',\n",
       " '$REPLACE_of',\n",
       " '$REPLACE_in',\n",
       " '$TRANSFORM_VERB_VBG_VB',\n",
       " '$TRANSFORM_VERB_VBN_VB',\n",
       " '$APPEND_to',\n",
       " '$TRANSFORM_AGREEMENT_PLURAL',\n",
       " '$APPEND_of',\n",
       " '$APPEND_and',\n",
       " '$APPEND_a']"
      ]
     },
     "execution_count": 33,
     "metadata": {},
     "output_type": "execute_result"
    }
   ],
   "source": [
    "key_1"
   ]
  },
  {
   "cell_type": "markdown",
   "id": "8fdf2b58",
   "metadata": {},
   "source": [
    "### Filtering the sentence \n",
    " \n",
    " Filterinng the sentence which has only the 20 most common edits in them"
   ]
  },
  {
   "cell_type": "code",
   "execution_count": 34,
   "id": "3d4d34da",
   "metadata": {},
   "outputs": [],
   "source": [
    "final = []\n",
    "for j in data:\n",
    "    if set(j[\"labels\"]).issubset(set(key_1)):\n",
    "        final.append(j)"
   ]
  },
  {
   "cell_type": "code",
   "execution_count": 35,
   "id": "5efe94fd",
   "metadata": {},
   "outputs": [],
   "source": [
    "final_val = []\n",
    "for i in data_val:\n",
    "    if set(i[\"labels\"]).issubset(set(key_1)):\n",
    "        final_val.append(i)"
   ]
  },
  {
   "cell_type": "code",
   "execution_count": 36,
   "id": "75a09fba",
   "metadata": {
    "scrolled": true
   },
   "outputs": [
    {
     "name": "stdout",
     "output_type": "stream",
     "text": [
      "52,731\n"
     ]
    }
   ],
   "source": [
    "print(f\"{len(final):,}\")"
   ]
  },
  {
   "cell_type": "code",
   "execution_count": 37,
   "id": "2f97ec5b",
   "metadata": {
    "scrolled": true
   },
   "outputs": [
    {
     "name": "stdout",
     "output_type": "stream",
     "text": [
      "25,865\n"
     ]
    }
   ],
   "source": [
    "print(f\"{len(final_val):,}\")"
   ]
  },
  {
   "cell_type": "markdown",
   "id": "75fb98a6",
   "metadata": {},
   "source": [
    "### Writing back to the file"
   ]
  },
  {
   "cell_type": "code",
   "execution_count": 38,
   "id": "5934ac22",
   "metadata": {},
   "outputs": [],
   "source": [
    "with jsonlines.open('./data_filter/ptrain.jsonl',mode='w') as f:\n",
    "    for line in final:\n",
    "        f.write(line)"
   ]
  },
  {
   "cell_type": "code",
   "execution_count": 39,
   "id": "74f72a60",
   "metadata": {},
   "outputs": [],
   "source": [
    "with jsonlines.open('./data_filter/val.jsonl',mode='w') as f:\n",
    "    for line in final_val:\n",
    "        f.write(line)"
   ]
  },
  {
   "cell_type": "markdown",
   "id": "1eeba5c5",
   "metadata": {},
   "source": [
    "## Data Filtering with less keep edit and more other edits"
   ]
  },
  {
   "cell_type": "markdown",
   "id": "5876bc10",
   "metadata": {},
   "source": [
    "### Import"
   ]
  },
  {
   "cell_type": "code",
   "execution_count": 61,
   "id": "d19dd1eb",
   "metadata": {},
   "outputs": [],
   "source": [
    "from collections import Counter\n",
    "import jsonlines\n",
    "import random"
   ]
  },
  {
   "cell_type": "markdown",
   "id": "011e8a2f",
   "metadata": {},
   "source": [
    "### Loading the data"
   ]
  },
  {
   "cell_type": "code",
   "execution_count": 62,
   "id": "b941981e",
   "metadata": {},
   "outputs": [],
   "source": [
    "data = []\n",
    "edits = []\n",
    "with jsonlines.open('./data_filter/ptrain.jsonl') as f:\n",
    "    for line in f.iter():\n",
    "        del line[\"original_sentence\"]\n",
    "        del line[\"errored_sentence\"]\n",
    "        data.append(line)\n",
    "        edits.append(line[\"labels\"])"
   ]
  },
  {
   "cell_type": "markdown",
   "id": "87b463b4",
   "metadata": {},
   "source": [
    "### removing [CLS] and [SEP] tokens"
   ]
  },
  {
   "cell_type": "code",
   "execution_count": 63,
   "id": "242de0d5",
   "metadata": {},
   "outputs": [],
   "source": [
    "removetoken = lambda x:x[1:-1]"
   ]
  },
  {
   "cell_type": "code",
   "execution_count": 64,
   "id": "32009fea",
   "metadata": {},
   "outputs": [],
   "source": [
    "for d in data:\n",
    "    d[\"tokens\"] = removetoken(d[\"tokens\"])\n",
    "    d[\"labels\"] = removetoken(d[\"labels\"])"
   ]
  },
  {
   "cell_type": "code",
   "execution_count": 65,
   "id": "f431e215",
   "metadata": {},
   "outputs": [],
   "source": [
    "wanted = []\n",
    "for i,edit in enumerate(edits):\n",
    "    c = Counter(edit)\n",
    "    keep = c[\"$KEEP\"]\n",
    "    other = sum([val for key,val in c.items() if key != \"$KEEP\"])\n",
    "    if 5*other >= keep:\n",
    "        wanted.append(data[i])"
   ]
  },
  {
   "cell_type": "code",
   "execution_count": 66,
   "id": "89d1f302",
   "metadata": {},
   "outputs": [
    {
     "data": {
      "text/plain": [
       "9825"
      ]
     },
     "execution_count": 66,
     "metadata": {},
     "output_type": "execute_result"
    }
   ],
   "source": [
    "len(wanted)"
   ]
  },
  {
   "cell_type": "code",
   "execution_count": 9,
   "id": "d6e28d4b",
   "metadata": {},
   "outputs": [],
   "source": [
    "random.shuffle(wanted)"
   ]
  },
  {
   "cell_type": "code",
   "execution_count": 67,
   "id": "cf1d6e5d",
   "metadata": {},
   "outputs": [],
   "source": [
    "wanted.extend(wanted)"
   ]
  },
  {
   "cell_type": "code",
   "execution_count": null,
   "id": "a1cbbba6",
   "metadata": {},
   "outputs": [],
   "source": [
    "9825"
   ]
  },
  {
   "cell_type": "code",
   "execution_count": 68,
   "id": "e45980c6",
   "metadata": {},
   "outputs": [],
   "source": [
    "with jsonlines.open('./data_filter_1/ptrin.jsonl',mode='w') as f:\n",
    "    for line in wanted:\n",
    "        f.write(line)"
   ]
  },
  {
   "cell_type": "code",
   "execution_count": 43,
   "id": "f82fefc3",
   "metadata": {},
   "outputs": [],
   "source": [
    "c=0"
   ]
  },
  {
   "cell_type": "code",
   "execution_count": 44,
   "id": "b7480fdc",
   "metadata": {},
   "outputs": [],
   "source": [
    "with jsonlines.open('./data_filter_1/ptrin.jsonl') as f:\n",
    "    for line in f.iter():\n",
    "        c += 1"
   ]
  },
  {
   "cell_type": "code",
   "execution_count": 45,
   "id": "75bc17d8",
   "metadata": {},
   "outputs": [
    {
     "data": {
      "text/plain": [
       "19650"
      ]
     },
     "execution_count": 45,
     "metadata": {},
     "output_type": "execute_result"
    }
   ],
   "source": [
    "c"
   ]
  },
  {
   "cell_type": "code",
   "execution_count": null,
   "id": "9e683425",
   "metadata": {},
   "outputs": [],
   "source": [
    "data = []\n",
    "edits = []\n",
    "with jsonlines.open('./data_full/ptrain.jsonl') as f:\n",
    "    for line in f.iter():\n",
    "        del line[\"original_sentence\"]\n",
    "        del line[\"errored_sentence\"]\n",
    "        data.append(line)\n",
    "        edits.append(line[\"labels\"])"
   ]
  },
  {
   "cell_type": "code",
   "execution_count": null,
   "id": "4b9d859a",
   "metadata": {},
   "outputs": [],
   "source": [
    "removetoken = lambda x:x[1:-1]"
   ]
  },
  {
   "cell_type": "code",
   "execution_count": null,
   "id": "f7331a24",
   "metadata": {},
   "outputs": [],
   "source": [
    "for d in data:\n",
    "    d[\"tokens\"] = removetoken(d[\"tokens\"])\n",
    "    d[\"labels\"] = removetoken(d[\"labels\"])"
   ]
  },
  {
   "cell_type": "code",
   "execution_count": null,
   "id": "08ecd1e3",
   "metadata": {},
   "outputs": [],
   "source": [
    "unwanted = []\n",
    "for i,edit in enumerate(edits):\n",
    "    c = Counter(edit)\n",
    "    keep = c[\"$KEEP\"]\n",
    "    other = sum([val for key,val in c.items() if key != \"$KEEP\"])\n",
    "    if 2*other < keep:\n",
    "        unwanted.append(i)"
   ]
  },
  {
   "cell_type": "code",
   "execution_count": null,
   "id": "8762d5e0",
   "metadata": {},
   "outputs": [],
   "source": [
    "len(data)"
   ]
  },
  {
   "cell_type": "code",
   "execution_count": null,
   "id": "90af0b8a",
   "metadata": {},
   "outputs": [],
   "source": [
    "len(edits)"
   ]
  },
  {
   "cell_type": "code",
   "execution_count": null,
   "id": "7d6fc9bb",
   "metadata": {},
   "outputs": [],
   "source": [
    "len(unwanted)"
   ]
  },
  {
   "cell_type": "code",
   "execution_count": null,
   "id": "48b401b9",
   "metadata": {},
   "outputs": [],
   "source": [
    "200000-199515"
   ]
  },
  {
   "cell_type": "code",
   "execution_count": 6,
   "id": "c05b7c76",
   "metadata": {},
   "outputs": [
    {
     "data": {
      "text/plain": [
       "6026"
      ]
     },
     "execution_count": 6,
     "metadata": {},
     "output_type": "execute_result"
    }
   ],
   "source": [
    "10+10+16+5+7+10+2000+2005+1963"
   ]
  },
  {
   "cell_type": "code",
   "execution_count": 10,
   "id": "7ebed505",
   "metadata": {},
   "outputs": [],
   "source": [
    "l = [1,2,3]\n",
    "d = [4,5,6]\n",
    "l.extend(d)"
   ]
  },
  {
   "cell_type": "code",
   "execution_count": 11,
   "id": "01bf4fc4",
   "metadata": {},
   "outputs": [
    {
     "data": {
      "text/plain": [
       "[1, 2, 3, 4, 5, 6]"
      ]
     },
     "execution_count": 11,
     "metadata": {},
     "output_type": "execute_result"
    }
   ],
   "source": [
    "l"
   ]
  },
  {
   "cell_type": "code",
   "execution_count": 12,
   "id": "0e077691",
   "metadata": {},
   "outputs": [],
   "source": [
    "l.extend(l)"
   ]
  },
  {
   "cell_type": "code",
   "execution_count": 13,
   "id": "d9c02525",
   "metadata": {},
   "outputs": [
    {
     "data": {
      "text/plain": [
       "[1, 2, 3, 4, 5, 6, 1, 2, 3, 4, 5, 6]"
      ]
     },
     "execution_count": 13,
     "metadata": {},
     "output_type": "execute_result"
    }
   ],
   "source": [
    "l"
   ]
  },
  {
   "cell_type": "code",
   "execution_count": null,
   "id": "1c5d89bc",
   "metadata": {},
   "outputs": [],
   "source": []
  }
 ],
 "metadata": {
  "hide_input": false,
  "kernelspec": {
   "display_name": "Python [conda env:nn1]",
   "language": "python",
   "name": "conda-env-nn1-py"
  },
  "language_info": {
   "codemirror_mode": {
    "name": "ipython",
    "version": 3
   },
   "file_extension": ".py",
   "mimetype": "text/x-python",
   "name": "python",
   "nbconvert_exporter": "python",
   "pygments_lexer": "ipython3",
   "version": "3.7.13"
  },
  "nbTranslate": {
   "displayLangs": [
    "*"
   ],
   "hotkey": "alt-t",
   "langInMainMenu": true,
   "sourceLang": "en",
   "targetLang": "fr",
   "useGoogleTranslate": true
  },
  "toc": {
   "base_numbering": 1,
   "nav_menu": {},
   "number_sections": true,
   "sideBar": true,
   "skip_h1_title": false,
   "title_cell": "Table of Contents",
   "title_sidebar": "Contents",
   "toc_cell": false,
   "toc_position": {
    "height": "calc(100% - 180px)",
    "left": "10px",
    "top": "150px",
    "width": "302.398px"
   },
   "toc_section_display": true,
   "toc_window_display": true
  },
  "varInspector": {
   "cols": {
    "lenName": 16,
    "lenType": 16,
    "lenVar": 40
   },
   "kernels_config": {
    "python": {
     "delete_cmd_postfix": "",
     "delete_cmd_prefix": "del ",
     "library": "var_list.py",
     "varRefreshCmd": "print(var_dic_list())"
    },
    "r": {
     "delete_cmd_postfix": ") ",
     "delete_cmd_prefix": "rm(",
     "library": "var_list.r",
     "varRefreshCmd": "cat(var_dic_list()) "
    }
   },
   "types_to_exclude": [
    "module",
    "function",
    "builtin_function_or_method",
    "instance",
    "_Feature"
   ],
   "window_display": false
  }
 },
 "nbformat": 4,
 "nbformat_minor": 5
}
