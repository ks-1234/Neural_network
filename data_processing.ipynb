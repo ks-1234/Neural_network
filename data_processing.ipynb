{
 "cells": [
  {
   "cell_type": "markdown",
   "id": "87ea7155",
   "metadata": {},
   "source": [
    "### Import"
   ]
  },
  {
   "cell_type": "code",
   "execution_count": 39,
   "id": "7fde6b5c",
   "metadata": {},
   "outputs": [],
   "source": [
    "from collections import Counter\n",
    "import jsonlines"
   ]
  },
  {
   "cell_type": "markdown",
   "id": "11b46f4e",
   "metadata": {},
   "source": [
    "### Loading the data"
   ]
  },
  {
   "cell_type": "code",
   "execution_count": 40,
   "id": "b4c52d4b",
   "metadata": {},
   "outputs": [],
   "source": [
    "data = []\n",
    "edits = []\n",
    "with jsonlines.open('./data_full/ptrain.jsonl') as f:\n",
    "    for line in f.iter():\n",
    "        data.append(line)\n",
    "        edits.append(line[\"labels\"])"
   ]
  },
  {
   "cell_type": "code",
   "execution_count": 41,
   "id": "61b0b968",
   "metadata": {},
   "outputs": [],
   "source": [
    "data_val = []\n",
    "edits_val = []\n",
    "with jsonlines.open('./data_full/val.jsonl') as f:\n",
    "    for line in f.iter():\n",
    "        data_val.append(line)\n",
    "        edits_val.append(line[\"labels\"])"
   ]
  },
  {
   "cell_type": "markdown",
   "id": "fe96436a",
   "metadata": {},
   "source": [
    "### removing [CLS] and [SEP] tokens"
   ]
  },
  {
   "cell_type": "code",
   "execution_count": 42,
   "id": "89b71b02",
   "metadata": {},
   "outputs": [],
   "source": [
    "removetoken = lambda x:x[1:-1]"
   ]
  },
  {
   "cell_type": "code",
   "execution_count": 43,
   "id": "ef416e14",
   "metadata": {},
   "outputs": [],
   "source": [
    "for d in data:\n",
    "    d[\"tokens\"] = removetoken(d[\"tokens\"])\n",
    "    d[\"labels\"] = removetoken(d[\"labels\"])"
   ]
  },
  {
   "cell_type": "code",
   "execution_count": 44,
   "id": "d04cea0f",
   "metadata": {},
   "outputs": [],
   "source": [
    "for d in data_val:\n",
    "    d[\"tokens\"] = removetoken(d[\"tokens\"])\n",
    "    d[\"labels\"] = removetoken(d[\"labels\"])"
   ]
  },
  {
   "cell_type": "code",
   "execution_count": 45,
   "id": "74ffb71f",
   "metadata": {},
   "outputs": [
    {
     "name": "stdout",
     "output_type": "stream",
     "text": [
      "200,000\n"
     ]
    }
   ],
   "source": [
    "print(f\"{len(data):,}\")"
   ]
  },
  {
   "cell_type": "code",
   "execution_count": 46,
   "id": "7f0c68ab",
   "metadata": {},
   "outputs": [
    {
     "name": "stdout",
     "output_type": "stream",
     "text": [
      "84,974\n"
     ]
    }
   ],
   "source": [
    "print(f\"{len(data_val):,}\")"
   ]
  },
  {
   "cell_type": "markdown",
   "id": "8eed9df7",
   "metadata": {},
   "source": [
    "### Finding most common 20 edits "
   ]
  },
  {
   "cell_type": "code",
   "execution_count": 47,
   "id": "900015e4",
   "metadata": {},
   "outputs": [],
   "source": [
    "flatten_edits_1 = [lst for edit in edits for lst in edit]"
   ]
  },
  {
   "cell_type": "code",
   "execution_count": 48,
   "id": "9ee75024",
   "metadata": {},
   "outputs": [
    {
     "name": "stdout",
     "output_type": "stream",
     "text": [
      "5,145,773\n"
     ]
    }
   ],
   "source": [
    "print(f\"{len(flatten_edits_1):,}\")"
   ]
  },
  {
   "cell_type": "code",
   "execution_count": 49,
   "id": "d95b2aaf",
   "metadata": {},
   "outputs": [
    {
     "data": {
      "text/plain": [
       "200000"
      ]
     },
     "execution_count": 49,
     "metadata": {},
     "output_type": "execute_result"
    }
   ],
   "source": [
    "len(edits)"
   ]
  },
  {
   "cell_type": "code",
   "execution_count": 50,
   "id": "2f385472",
   "metadata": {},
   "outputs": [],
   "source": [
    "key_1 = Counter(flatten_edits_1).most_common(20)"
   ]
  },
  {
   "cell_type": "code",
   "execution_count": 51,
   "id": "c4a372f6",
   "metadata": {},
   "outputs": [],
   "source": [
    "key_1 = [i[0] for i in key_1]"
   ]
  },
  {
   "cell_type": "code",
   "execution_count": 52,
   "id": "78a4171f",
   "metadata": {},
   "outputs": [
    {
     "data": {
      "text/plain": [
       "['$KEEP',\n",
       " '$DELETE',\n",
       " '$REPLACE_.',\n",
       " '$REPLACE_,',\n",
       " '$TRANSFORM_AGREEMENT_SINGULAR',\n",
       " '$APPEND_.',\n",
       " '$APPEND_,',\n",
       " '$APPEND_the',\n",
       " '$REPLACE_to',\n",
       " '$REPLACE_the',\n",
       " '$TRANSFORM_VERB_VBZ_VB',\n",
       " '$REPLACE_of',\n",
       " '$REPLACE_in',\n",
       " '$TRANSFORM_VERB_VBG_VB',\n",
       " '$TRANSFORM_VERB_VBN_VB',\n",
       " '$APPEND_to',\n",
       " '$TRANSFORM_AGREEMENT_PLURAL',\n",
       " '$APPEND_of',\n",
       " '$APPEND_and',\n",
       " '$APPEND_a']"
      ]
     },
     "execution_count": 52,
     "metadata": {},
     "output_type": "execute_result"
    }
   ],
   "source": [
    "key_1"
   ]
  },
  {
   "cell_type": "markdown",
   "id": "8fdf2b58",
   "metadata": {},
   "source": [
    "### Filtering the sentence \n",
    " \n",
    " Filterinng the sentence which has only the 20 most common edits in them"
   ]
  },
  {
   "cell_type": "code",
   "execution_count": 53,
   "id": "3d4d34da",
   "metadata": {},
   "outputs": [],
   "source": [
    "final = []\n",
    "for j in data:\n",
    "    if set(j[\"labels\"]).issubset(set(key_1)):\n",
    "        final.append(j)"
   ]
  },
  {
   "cell_type": "code",
   "execution_count": 54,
   "id": "5efe94fd",
   "metadata": {},
   "outputs": [],
   "source": [
    "final_val = []\n",
    "for i in data_val:\n",
    "    if set(i[\"labels\"]).issubset(set(key_1)):\n",
    "        final_val.append(i)"
   ]
  },
  {
   "cell_type": "code",
   "execution_count": 55,
   "id": "75a09fba",
   "metadata": {
    "scrolled": true
   },
   "outputs": [
    {
     "name": "stdout",
     "output_type": "stream",
     "text": [
      "52,731\n"
     ]
    }
   ],
   "source": [
    "print(f\"{len(final):,}\")"
   ]
  },
  {
   "cell_type": "code",
   "execution_count": 56,
   "id": "2f97ec5b",
   "metadata": {
    "scrolled": true
   },
   "outputs": [
    {
     "name": "stdout",
     "output_type": "stream",
     "text": [
      "25,865\n"
     ]
    }
   ],
   "source": [
    "print(f\"{len(final_val):,}\")"
   ]
  },
  {
   "cell_type": "markdown",
   "id": "75fb98a6",
   "metadata": {},
   "source": [
    "### Writing back to the file"
   ]
  },
  {
   "cell_type": "code",
   "execution_count": 57,
   "id": "5934ac22",
   "metadata": {},
   "outputs": [],
   "source": [
    "with jsonlines.open('./data_filter/ptrain.jsonl',mode='w') as f:\n",
    "    for line in final:\n",
    "        f.write(line)"
   ]
  },
  {
   "cell_type": "code",
   "execution_count": 58,
   "id": "74f72a60",
   "metadata": {},
   "outputs": [],
   "source": [
    "with jsonlines.open('./data_filter/val.jsonl',mode='w') as f:\n",
    "    for line in final_val:\n",
    "        f.write(line)"
   ]
  }
 ],
 "metadata": {
  "hide_input": false,
  "kernelspec": {
   "display_name": "Python [conda env:nn3]",
   "language": "python",
   "name": "conda-env-nn3-py"
  },
  "language_info": {
   "codemirror_mode": {
    "name": "ipython",
    "version": 3
   },
   "file_extension": ".py",
   "mimetype": "text/x-python",
   "name": "python",
   "nbconvert_exporter": "python",
   "pygments_lexer": "ipython3",
   "version": "3.7.13"
  },
  "nbTranslate": {
   "displayLangs": [
    "*"
   ],
   "hotkey": "alt-t",
   "langInMainMenu": true,
   "sourceLang": "en",
   "targetLang": "fr",
   "useGoogleTranslate": true
  },
  "toc": {
   "base_numbering": 1,
   "nav_menu": {},
   "number_sections": true,
   "sideBar": true,
   "skip_h1_title": false,
   "title_cell": "Table of Contents",
   "title_sidebar": "Contents",
   "toc_cell": false,
   "toc_position": {},
   "toc_section_display": true,
   "toc_window_display": false
  },
  "varInspector": {
   "cols": {
    "lenName": 16,
    "lenType": 16,
    "lenVar": 40
   },
   "kernels_config": {
    "python": {
     "delete_cmd_postfix": "",
     "delete_cmd_prefix": "del ",
     "library": "var_list.py",
     "varRefreshCmd": "print(var_dic_list())"
    },
    "r": {
     "delete_cmd_postfix": ") ",
     "delete_cmd_prefix": "rm(",
     "library": "var_list.r",
     "varRefreshCmd": "cat(var_dic_list()) "
    }
   },
   "types_to_exclude": [
    "module",
    "function",
    "builtin_function_or_method",
    "instance",
    "_Feature"
   ],
   "window_display": false
  }
 },
 "nbformat": 4,
 "nbformat_minor": 5
}
